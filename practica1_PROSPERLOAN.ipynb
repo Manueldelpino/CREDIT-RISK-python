{
 "cells": [
  {
   "cell_type": "markdown",
   "metadata": {},
   "source": [
    "# PROSPER LOAN PEER TO PEER ASSIGNMENT"
   ]
  },
  {
   "cell_type": "markdown",
   "metadata": {},
   "source": [
    "**Manuel del Pino Guerrero y Santiago García Gisbert**"
   ]
  },
  {
   "cell_type": "markdown",
   "metadata": {},
   "source": [
    "First, we will begin by importing the following libraries:"
   ]
  },
  {
   "cell_type": "code",
   "execution_count": 1,
   "metadata": {
    "ExecuteTime": {
     "end_time": "2019-04-25T17:52:25.341453Z",
     "start_time": "2019-04-25T17:52:24.200989Z"
    }
   },
   "outputs": [],
   "source": [
    "import pandas as pd\n",
    "import numpy as np\n",
    "%matplotlib inline\n",
    "import seaborn as sns"
   ]
  },
  {
   "cell_type": "markdown",
   "metadata": {},
   "source": [
    "The following documentation covers some important aspects of pandas and its applications:\n",
    "\n",
    "http://pandas.pydata.org/pandas-docs/stable/\n",
    "\n",
    "https://pandas.pydata.org/pandas-docs/stable/getting_started/tutorials.html\n",
    "\n",
    "https://pandas.pydata.org/pandas-docs/stable/getting_started/10min.html\n",
    "\n",
    "https://pandas.pydata.org/pandas-docs/stable/user_guide/cookbook.html"
   ]
  },
  {
   "cell_type": "markdown",
   "metadata": {},
   "source": [
    "## Introduction: Dataset and Data Dictionary"
   ]
  },
  {
   "cell_type": "markdown",
   "metadata": {},
   "source": [
    "In this notebook, we will work with the Prosper Loan dataset available in the following link: https://raw.githubusercontent.com/joashxu/prosper-loan-data/master/dataset/prosperLoanData.csv\n",
    "\n",
    "This dataset contains the loan listings on Prosper.com from the end of 2005 until the year 2014. The dataset comes with the variables that provide information on those loans. "
   ]
  },
  {
   "cell_type": "markdown",
   "metadata": {},
   "source": [
    "The Prosper Loan Data Dictionary can be found on: https://docs.google.com/spreadsheets/d/1gDyi_L4UvIrLTEC6Wri5nbaMmkGmLQBk-Yx3z0XDEtI/edit#gid=0"
   ]
  },
  {
   "cell_type": "markdown",
   "metadata": {},
   "source": [
    "**Here are the most important variables that we will focus on the most:**"
   ]
  },
  {
   "cell_type": "markdown",
   "metadata": {},
   "source": [
    "- **LoanStatus**: The current status of the loan. Cancelled,  Chargedoff, Completed, Current, Defaulted, FinalPaymentInProgress, PastDue. The PastDue status will be accompanied by a delinquency bucket.\n",
    "\n",
    "    \n",
    "- **LoanMonthsSinceOrigination**: Number of months since the loan originated.\n",
    "\n",
    "\n",
    "- **LoanFirstDefaultedCycleNumber**: The cycle the loan was charged off. If the loan has not charged off the value will be null. *A charge-off or chargeoff is the declaration by a creditor (usually a credit card account) that an amount of debt is unlikely to be collected. This occurs when a consumer becomes severely delinquent on a debt.*\n",
    "\n",
    "\n",
    "- **LoanCurrentDaysDelinquent**: The number of days delinquent. \n"
   ]
  },
  {
   "cell_type": "markdown",
   "metadata": {},
   "source": [
    "These are some other variables:"
   ]
  },
  {
   "cell_type": "markdown",
   "metadata": {},
   "source": [
    "- **Term**: The length of the loan expressed in months.\n",
    "\n",
    "\n",
    "- **ProsperScore**: A custom risk score built using historical Prosper data. The score ranges from 1-10, with 10 being the best, or lowest risk score.  Applicable for loans originated after July 2009. \n",
    "\n",
    "\n",
    "- **BorrowerAPR**: The Borrower’s Annual Percentage Rate (APR) for the loan.\n",
    "\n",
    "\n",
    "- **BorrowerRate**: The Borrower’s interest rate for this loan.\n",
    "\n",
    "\n",
    "- **ListingCategory**: The category of the listing that the borrower selected when posting their listing. 0 - Not Available, 1 - Debt Consolidation, 2 - Home Improvement, 3 - Business, 4 - Personal Loan, 5 - Student Use, 6 - Auto, 7- Other, 8 - Baby&Adoption, 9 - Boat, 10 - Cosmetic Procedure, 11 - Engagement Ring, 12 - Green Loans, 13 - Household Expenses, 14 - Large Purchases, 15 - Medical/Dental, 16 - Motorcycle, 17 - RV, 18 - Taxes, 19 - Vacation, 20 - Wedding Loans.\n",
    "\n",
    "\n",
    "- **EmploymentStatus**: The length in months of the employment status at the time the listing was created.\n",
    "\n",
    "\n",
    "- **Occupation**: The Occupation selected by the Borrower at the time they created the listing.\n",
    "\n",
    "\n",
    "- **EmploymentStatusDuration**: The length in months of the employment status at the time the listing was created.\n",
    "\n",
    "\n",
    "- **IsBorrowerHomeowner**: A Borrower will be classified as a homowner if they have a mortgage on their credit profile or provide documentation confirming they are a homeowner (True or False).\n",
    "\n",
    "\n",
    "- **ProsperRating (Alpha)**: The Prosper Rating assigned at the time the listing was created between AA - HR.  Applicable for loans originated after July 2009.\n",
    "\n",
    "\n",
    "- **IncomeVerifiable**: The borrower indicated they have the required documentation to support their income (True or False).\n",
    "\n",
    "\n",
    "- **StatedMonthlyIncome**: The monthly income the borrower stated at the time the listing was created.\n",
    "\n",
    "\n",
    "- **MonthlyLoanPayment**: The scheduled monthly loan payment amount.\n",
    "\n",
    "\n",
    "- **DebtToIncomeRatio**: The debt to income ratio of the borrower at the time the credit profile was pulled. This value is Null if the debt to income ratio is not available. This value is capped at 10.01 (any debt to income ratio larger than 1000% will be returned as 1001%).\n",
    "\n",
    "\n",
    "- **LoanOriginalAmount**: The original amount of the loan.\n",
    "\n",
    "\n",
    "- **LoanOriginationDate**: The date the loan was originated.\n",
    "\n",
    "\n",
    "- **LoanOriginationQuarter**: The quarter in which the loan was originated."
   ]
  },
  {
   "cell_type": "markdown",
   "metadata": {},
   "source": [
    "## Step 1: Data Preparation"
   ]
  },
  {
   "cell_type": "markdown",
   "metadata": {},
   "source": [
    "In this step, we read the csv file that contains Prosper's loan data. The read_csv function returns a pandas dataframe."
   ]
  },
  {
   "cell_type": "code",
   "execution_count": 2,
   "metadata": {
    "ExecuteTime": {
     "end_time": "2019-04-25T17:52:58.007310Z",
     "start_time": "2019-04-25T17:52:57.993490Z"
    }
   },
   "outputs": [],
   "source": [
    "df = pd.read_csv('./data/prosperLoanData.csv')"
   ]
  },
  {
   "cell_type": "markdown",
   "metadata": {},
   "source": [
    "We check the number of rows and columns of our dataset:"
   ]
  },
  {
   "cell_type": "code",
   "execution_count": 3,
   "metadata": {
    "ExecuteTime": {
     "end_time": "2019-04-25T17:53:02.989094Z",
     "start_time": "2019-04-25T17:53:02.969678Z"
    }
   },
   "outputs": [
    {
     "name": "stdout",
     "output_type": "stream",
     "text": [
      "The dataset has 113937 rows and 81 columns\n"
     ]
    }
   ],
   "source": [
    "print('The dataset has {} rows and {} columns'.format(df.shape[0], df.shape[1]))"
   ]
  },
  {
   "cell_type": "markdown",
   "metadata": {},
   "source": [
    "We check the column names:"
   ]
  },
  {
   "cell_type": "code",
   "execution_count": 4,
   "metadata": {
    "ExecuteTime": {
     "end_time": "2019-04-25T17:58:20.096942Z",
     "start_time": "2019-04-25T17:58:20.068827Z"
    }
   },
   "outputs": [
    {
     "data": {
      "text/plain": [
       "Index(['ListingKey', 'ListingNumber', 'ListingCreationDate', 'CreditGrade',\n",
       "       'Term', 'LoanStatus', 'ClosedDate', 'BorrowerAPR', 'BorrowerRate',\n",
       "       'LenderYield', 'EstimatedEffectiveYield', 'EstimatedLoss',\n",
       "       'EstimatedReturn', 'ProsperRating (numeric)', 'ProsperRating (Alpha)',\n",
       "       'ProsperScore', 'ListingCategory (numeric)', 'BorrowerState',\n",
       "       'Occupation', 'EmploymentStatus', 'EmploymentStatusDuration',\n",
       "       'IsBorrowerHomeowner', 'CurrentlyInGroup', 'GroupKey',\n",
       "       'DateCreditPulled', 'CreditScoreRangeLower', 'CreditScoreRangeUpper',\n",
       "       'FirstRecordedCreditLine', 'CurrentCreditLines', 'OpenCreditLines',\n",
       "       'TotalCreditLinespast7years', 'OpenRevolvingAccounts',\n",
       "       'OpenRevolvingMonthlyPayment', 'InquiriesLast6Months', 'TotalInquiries',\n",
       "       'CurrentDelinquencies', 'AmountDelinquent', 'DelinquenciesLast7Years',\n",
       "       'PublicRecordsLast10Years', 'PublicRecordsLast12Months',\n",
       "       'RevolvingCreditBalance', 'BankcardUtilization',\n",
       "       'AvailableBankcardCredit', 'TotalTrades',\n",
       "       'TradesNeverDelinquent (percentage)', 'TradesOpenedLast6Months',\n",
       "       'DebtToIncomeRatio', 'IncomeRange', 'IncomeVerifiable',\n",
       "       'StatedMonthlyIncome', 'LoanKey', 'TotalProsperLoans',\n",
       "       'TotalProsperPaymentsBilled', 'OnTimeProsperPayments',\n",
       "       'ProsperPaymentsLessThanOneMonthLate',\n",
       "       'ProsperPaymentsOneMonthPlusLate', 'ProsperPrincipalBorrowed',\n",
       "       'ProsperPrincipalOutstanding', 'ScorexChangeAtTimeOfListing',\n",
       "       'LoanCurrentDaysDelinquent', 'LoanFirstDefaultedCycleNumber',\n",
       "       'LoanMonthsSinceOrigination', 'LoanNumber', 'LoanOriginalAmount',\n",
       "       'LoanOriginationDate', 'LoanOriginationQuarter', 'MemberKey',\n",
       "       'MonthlyLoanPayment', 'LP_CustomerPayments',\n",
       "       'LP_CustomerPrincipalPayments', 'LP_InterestandFees', 'LP_ServiceFees',\n",
       "       'LP_CollectionFees', 'LP_GrossPrincipalLoss', 'LP_NetPrincipalLoss',\n",
       "       'LP_NonPrincipalRecoverypayments', 'PercentFunded', 'Recommendations',\n",
       "       'InvestmentFromFriendsCount', 'InvestmentFromFriendsAmount',\n",
       "       'Investors'],\n",
       "      dtype='object')"
      ]
     },
     "execution_count": 4,
     "metadata": {},
     "output_type": "execute_result"
    }
   ],
   "source": [
    "df.columns"
   ]
  },
  {
   "cell_type": "code",
   "execution_count": 5,
   "metadata": {},
   "outputs": [
    {
     "data": {
      "text/html": [
       "<div>\n",
       "<style scoped>\n",
       "    .dataframe tbody tr th:only-of-type {\n",
       "        vertical-align: middle;\n",
       "    }\n",
       "\n",
       "    .dataframe tbody tr th {\n",
       "        vertical-align: top;\n",
       "    }\n",
       "\n",
       "    .dataframe thead th {\n",
       "        text-align: right;\n",
       "    }\n",
       "</style>\n",
       "<table border=\"1\" class=\"dataframe\">\n",
       "  <thead>\n",
       "    <tr style=\"text-align: right;\">\n",
       "      <th></th>\n",
       "      <th>ListingKey</th>\n",
       "      <th>ListingNumber</th>\n",
       "      <th>ListingCreationDate</th>\n",
       "      <th>CreditGrade</th>\n",
       "      <th>Term</th>\n",
       "      <th>LoanStatus</th>\n",
       "      <th>ClosedDate</th>\n",
       "      <th>BorrowerAPR</th>\n",
       "      <th>BorrowerRate</th>\n",
       "      <th>LenderYield</th>\n",
       "      <th>...</th>\n",
       "      <th>LP_ServiceFees</th>\n",
       "      <th>LP_CollectionFees</th>\n",
       "      <th>LP_GrossPrincipalLoss</th>\n",
       "      <th>LP_NetPrincipalLoss</th>\n",
       "      <th>LP_NonPrincipalRecoverypayments</th>\n",
       "      <th>PercentFunded</th>\n",
       "      <th>Recommendations</th>\n",
       "      <th>InvestmentFromFriendsCount</th>\n",
       "      <th>InvestmentFromFriendsAmount</th>\n",
       "      <th>Investors</th>\n",
       "    </tr>\n",
       "  </thead>\n",
       "  <tbody>\n",
       "    <tr>\n",
       "      <th>0</th>\n",
       "      <td>1021339766868145413AB3B</td>\n",
       "      <td>193129</td>\n",
       "      <td>2007-08-26 19:09:29.263000000</td>\n",
       "      <td>C</td>\n",
       "      <td>36</td>\n",
       "      <td>Completed</td>\n",
       "      <td>2009-08-14 00:00:00</td>\n",
       "      <td>0.16516</td>\n",
       "      <td>0.1580</td>\n",
       "      <td>0.1380</td>\n",
       "      <td>...</td>\n",
       "      <td>-133.18</td>\n",
       "      <td>0.0</td>\n",
       "      <td>0.0</td>\n",
       "      <td>0.0</td>\n",
       "      <td>0.0</td>\n",
       "      <td>1.0</td>\n",
       "      <td>0</td>\n",
       "      <td>0</td>\n",
       "      <td>0.0</td>\n",
       "      <td>258</td>\n",
       "    </tr>\n",
       "    <tr>\n",
       "      <th>1</th>\n",
       "      <td>10273602499503308B223C1</td>\n",
       "      <td>1209647</td>\n",
       "      <td>2014-02-27 08:28:07.900000000</td>\n",
       "      <td>NaN</td>\n",
       "      <td>36</td>\n",
       "      <td>Current</td>\n",
       "      <td>NaN</td>\n",
       "      <td>0.12016</td>\n",
       "      <td>0.0920</td>\n",
       "      <td>0.0820</td>\n",
       "      <td>...</td>\n",
       "      <td>0.00</td>\n",
       "      <td>0.0</td>\n",
       "      <td>0.0</td>\n",
       "      <td>0.0</td>\n",
       "      <td>0.0</td>\n",
       "      <td>1.0</td>\n",
       "      <td>0</td>\n",
       "      <td>0</td>\n",
       "      <td>0.0</td>\n",
       "      <td>1</td>\n",
       "    </tr>\n",
       "    <tr>\n",
       "      <th>2</th>\n",
       "      <td>0EE9337825851032864889A</td>\n",
       "      <td>81716</td>\n",
       "      <td>2007-01-05 15:00:47.090000000</td>\n",
       "      <td>HR</td>\n",
       "      <td>36</td>\n",
       "      <td>Completed</td>\n",
       "      <td>2009-12-17 00:00:00</td>\n",
       "      <td>0.28269</td>\n",
       "      <td>0.2750</td>\n",
       "      <td>0.2400</td>\n",
       "      <td>...</td>\n",
       "      <td>-24.20</td>\n",
       "      <td>0.0</td>\n",
       "      <td>0.0</td>\n",
       "      <td>0.0</td>\n",
       "      <td>0.0</td>\n",
       "      <td>1.0</td>\n",
       "      <td>0</td>\n",
       "      <td>0</td>\n",
       "      <td>0.0</td>\n",
       "      <td>41</td>\n",
       "    </tr>\n",
       "    <tr>\n",
       "      <th>3</th>\n",
       "      <td>0EF5356002482715299901A</td>\n",
       "      <td>658116</td>\n",
       "      <td>2012-10-22 11:02:35.010000000</td>\n",
       "      <td>NaN</td>\n",
       "      <td>36</td>\n",
       "      <td>Current</td>\n",
       "      <td>NaN</td>\n",
       "      <td>0.12528</td>\n",
       "      <td>0.0974</td>\n",
       "      <td>0.0874</td>\n",
       "      <td>...</td>\n",
       "      <td>-108.01</td>\n",
       "      <td>0.0</td>\n",
       "      <td>0.0</td>\n",
       "      <td>0.0</td>\n",
       "      <td>0.0</td>\n",
       "      <td>1.0</td>\n",
       "      <td>0</td>\n",
       "      <td>0</td>\n",
       "      <td>0.0</td>\n",
       "      <td>158</td>\n",
       "    </tr>\n",
       "    <tr>\n",
       "      <th>4</th>\n",
       "      <td>0F023589499656230C5E3E2</td>\n",
       "      <td>909464</td>\n",
       "      <td>2013-09-14 18:38:39.097000000</td>\n",
       "      <td>NaN</td>\n",
       "      <td>36</td>\n",
       "      <td>Current</td>\n",
       "      <td>NaN</td>\n",
       "      <td>0.24614</td>\n",
       "      <td>0.2085</td>\n",
       "      <td>0.1985</td>\n",
       "      <td>...</td>\n",
       "      <td>-60.27</td>\n",
       "      <td>0.0</td>\n",
       "      <td>0.0</td>\n",
       "      <td>0.0</td>\n",
       "      <td>0.0</td>\n",
       "      <td>1.0</td>\n",
       "      <td>0</td>\n",
       "      <td>0</td>\n",
       "      <td>0.0</td>\n",
       "      <td>20</td>\n",
       "    </tr>\n",
       "    <tr>\n",
       "      <th>5</th>\n",
       "      <td>0F05359734824199381F61D</td>\n",
       "      <td>1074836</td>\n",
       "      <td>2013-12-14 08:26:37.093000000</td>\n",
       "      <td>NaN</td>\n",
       "      <td>60</td>\n",
       "      <td>Current</td>\n",
       "      <td>NaN</td>\n",
       "      <td>0.15425</td>\n",
       "      <td>0.1314</td>\n",
       "      <td>0.1214</td>\n",
       "      <td>...</td>\n",
       "      <td>-25.33</td>\n",
       "      <td>0.0</td>\n",
       "      <td>0.0</td>\n",
       "      <td>0.0</td>\n",
       "      <td>0.0</td>\n",
       "      <td>1.0</td>\n",
       "      <td>0</td>\n",
       "      <td>0</td>\n",
       "      <td>0.0</td>\n",
       "      <td>1</td>\n",
       "    </tr>\n",
       "    <tr>\n",
       "      <th>6</th>\n",
       "      <td>0F0A3576754255009D63151</td>\n",
       "      <td>750899</td>\n",
       "      <td>2013-04-12 09:52:56.147000000</td>\n",
       "      <td>NaN</td>\n",
       "      <td>36</td>\n",
       "      <td>Current</td>\n",
       "      <td>NaN</td>\n",
       "      <td>0.31032</td>\n",
       "      <td>0.2712</td>\n",
       "      <td>0.2612</td>\n",
       "      <td>...</td>\n",
       "      <td>-22.95</td>\n",
       "      <td>0.0</td>\n",
       "      <td>0.0</td>\n",
       "      <td>0.0</td>\n",
       "      <td>0.0</td>\n",
       "      <td>1.0</td>\n",
       "      <td>0</td>\n",
       "      <td>0</td>\n",
       "      <td>0.0</td>\n",
       "      <td>1</td>\n",
       "    </tr>\n",
       "    <tr>\n",
       "      <th>7</th>\n",
       "      <td>0F1035772717087366F9EA7</td>\n",
       "      <td>768193</td>\n",
       "      <td>2013-05-05 06:49:27.493000000</td>\n",
       "      <td>NaN</td>\n",
       "      <td>36</td>\n",
       "      <td>Current</td>\n",
       "      <td>NaN</td>\n",
       "      <td>0.23939</td>\n",
       "      <td>0.2019</td>\n",
       "      <td>0.1919</td>\n",
       "      <td>...</td>\n",
       "      <td>-69.21</td>\n",
       "      <td>0.0</td>\n",
       "      <td>0.0</td>\n",
       "      <td>0.0</td>\n",
       "      <td>0.0</td>\n",
       "      <td>1.0</td>\n",
       "      <td>0</td>\n",
       "      <td>0</td>\n",
       "      <td>0.0</td>\n",
       "      <td>1</td>\n",
       "    </tr>\n",
       "    <tr>\n",
       "      <th>8</th>\n",
       "      <td>0F043596202561788EA13D5</td>\n",
       "      <td>1023355</td>\n",
       "      <td>2013-12-02 10:43:39.117000000</td>\n",
       "      <td>NaN</td>\n",
       "      <td>36</td>\n",
       "      <td>Current</td>\n",
       "      <td>NaN</td>\n",
       "      <td>0.07620</td>\n",
       "      <td>0.0629</td>\n",
       "      <td>0.0529</td>\n",
       "      <td>...</td>\n",
       "      <td>-16.77</td>\n",
       "      <td>0.0</td>\n",
       "      <td>0.0</td>\n",
       "      <td>0.0</td>\n",
       "      <td>0.0</td>\n",
       "      <td>1.0</td>\n",
       "      <td>0</td>\n",
       "      <td>0</td>\n",
       "      <td>0.0</td>\n",
       "      <td>1</td>\n",
       "    </tr>\n",
       "    <tr>\n",
       "      <th>9</th>\n",
       "      <td>0F043596202561788EA13D5</td>\n",
       "      <td>1023355</td>\n",
       "      <td>2013-12-02 10:43:39.117000000</td>\n",
       "      <td>NaN</td>\n",
       "      <td>36</td>\n",
       "      <td>Current</td>\n",
       "      <td>NaN</td>\n",
       "      <td>0.07620</td>\n",
       "      <td>0.0629</td>\n",
       "      <td>0.0529</td>\n",
       "      <td>...</td>\n",
       "      <td>-16.77</td>\n",
       "      <td>0.0</td>\n",
       "      <td>0.0</td>\n",
       "      <td>0.0</td>\n",
       "      <td>0.0</td>\n",
       "      <td>1.0</td>\n",
       "      <td>0</td>\n",
       "      <td>0</td>\n",
       "      <td>0.0</td>\n",
       "      <td>1</td>\n",
       "    </tr>\n",
       "  </tbody>\n",
       "</table>\n",
       "<p>10 rows × 81 columns</p>\n",
       "</div>"
      ],
      "text/plain": [
       "                ListingKey  ListingNumber            ListingCreationDate  \\\n",
       "0  1021339766868145413AB3B         193129  2007-08-26 19:09:29.263000000   \n",
       "1  10273602499503308B223C1        1209647  2014-02-27 08:28:07.900000000   \n",
       "2  0EE9337825851032864889A          81716  2007-01-05 15:00:47.090000000   \n",
       "3  0EF5356002482715299901A         658116  2012-10-22 11:02:35.010000000   \n",
       "4  0F023589499656230C5E3E2         909464  2013-09-14 18:38:39.097000000   \n",
       "5  0F05359734824199381F61D        1074836  2013-12-14 08:26:37.093000000   \n",
       "6  0F0A3576754255009D63151         750899  2013-04-12 09:52:56.147000000   \n",
       "7  0F1035772717087366F9EA7         768193  2013-05-05 06:49:27.493000000   \n",
       "8  0F043596202561788EA13D5        1023355  2013-12-02 10:43:39.117000000   \n",
       "9  0F043596202561788EA13D5        1023355  2013-12-02 10:43:39.117000000   \n",
       "\n",
       "  CreditGrade  Term LoanStatus           ClosedDate  BorrowerAPR  \\\n",
       "0           C    36  Completed  2009-08-14 00:00:00      0.16516   \n",
       "1         NaN    36    Current                  NaN      0.12016   \n",
       "2          HR    36  Completed  2009-12-17 00:00:00      0.28269   \n",
       "3         NaN    36    Current                  NaN      0.12528   \n",
       "4         NaN    36    Current                  NaN      0.24614   \n",
       "5         NaN    60    Current                  NaN      0.15425   \n",
       "6         NaN    36    Current                  NaN      0.31032   \n",
       "7         NaN    36    Current                  NaN      0.23939   \n",
       "8         NaN    36    Current                  NaN      0.07620   \n",
       "9         NaN    36    Current                  NaN      0.07620   \n",
       "\n",
       "   BorrowerRate  LenderYield    ...     LP_ServiceFees  LP_CollectionFees  \\\n",
       "0        0.1580       0.1380    ...            -133.18                0.0   \n",
       "1        0.0920       0.0820    ...               0.00                0.0   \n",
       "2        0.2750       0.2400    ...             -24.20                0.0   \n",
       "3        0.0974       0.0874    ...            -108.01                0.0   \n",
       "4        0.2085       0.1985    ...             -60.27                0.0   \n",
       "5        0.1314       0.1214    ...             -25.33                0.0   \n",
       "6        0.2712       0.2612    ...             -22.95                0.0   \n",
       "7        0.2019       0.1919    ...             -69.21                0.0   \n",
       "8        0.0629       0.0529    ...             -16.77                0.0   \n",
       "9        0.0629       0.0529    ...             -16.77                0.0   \n",
       "\n",
       "   LP_GrossPrincipalLoss  LP_NetPrincipalLoss LP_NonPrincipalRecoverypayments  \\\n",
       "0                    0.0                  0.0                             0.0   \n",
       "1                    0.0                  0.0                             0.0   \n",
       "2                    0.0                  0.0                             0.0   \n",
       "3                    0.0                  0.0                             0.0   \n",
       "4                    0.0                  0.0                             0.0   \n",
       "5                    0.0                  0.0                             0.0   \n",
       "6                    0.0                  0.0                             0.0   \n",
       "7                    0.0                  0.0                             0.0   \n",
       "8                    0.0                  0.0                             0.0   \n",
       "9                    0.0                  0.0                             0.0   \n",
       "\n",
       "   PercentFunded  Recommendations InvestmentFromFriendsCount  \\\n",
       "0            1.0                0                          0   \n",
       "1            1.0                0                          0   \n",
       "2            1.0                0                          0   \n",
       "3            1.0                0                          0   \n",
       "4            1.0                0                          0   \n",
       "5            1.0                0                          0   \n",
       "6            1.0                0                          0   \n",
       "7            1.0                0                          0   \n",
       "8            1.0                0                          0   \n",
       "9            1.0                0                          0   \n",
       "\n",
       "  InvestmentFromFriendsAmount Investors  \n",
       "0                         0.0       258  \n",
       "1                         0.0         1  \n",
       "2                         0.0        41  \n",
       "3                         0.0       158  \n",
       "4                         0.0        20  \n",
       "5                         0.0         1  \n",
       "6                         0.0         1  \n",
       "7                         0.0         1  \n",
       "8                         0.0         1  \n",
       "9                         0.0         1  \n",
       "\n",
       "[10 rows x 81 columns]"
      ]
     },
     "execution_count": 5,
     "metadata": {},
     "output_type": "execute_result"
    }
   ],
   "source": [
    "df.head(10)"
   ]
  },
  {
   "cell_type": "markdown",
   "metadata": {},
   "source": [
    "## Step 2: Performance & Sample Window"
   ]
  },
  {
   "cell_type": "markdown",
   "metadata": {},
   "source": [
    "Regarding our analysis is going to be based on the percentage of 'bads', it is important to analyse the features which better express the current state of the loan, therefore it will depend on how we define our **Performance and Sample Window**.\n",
    "\n",
    "From this, we are going to be able to score predictions in the future with Machine Learning techniques which will be developed in **práctica 3**, with further details."
   ]
  },
  {
   "cell_type": "markdown",
   "metadata": {},
   "source": [
    "We begin with the visualization of the variable **LoanOriginationDate**: by plotting a histogram with the amount of loans that originated each year."
   ]
  },
  {
   "cell_type": "code",
   "execution_count": 6,
   "metadata": {},
   "outputs": [
    {
     "data": {
      "image/png": "[encoded data removed]",
      "text/plain": [
       "<Figure size 432x288 with 1 Axes>"
      ]
     },
     "metadata": {},
     "output_type": "display_data"
    }
   ],
   "source": [
    "from pandas.plotting import register_matplotlib_converters\n",
    "register_matplotlib_converters()\n",
    "import matplotlib.pyplot as plt\n",
    "x = pd.to_datetime(df.LoanOriginationDate.str[:10])\n",
    "plt.hist(x)\n",
    "plt.title('Amount of Loans Originated each Year')\n",
    "plt.xlabel('Year')\n",
    "plt.ylabel('Amount')\n",
    "plt.show()"
   ]
  },
  {
   "cell_type": "markdown",
   "metadata": {},
   "source": [
    "Observations: Lowest amount of loans during the years 2009-2010 (after 2007/08 financial crisis). Highest amount of loans during 2012-2014, peak year 2014.\n"
   ]
  },
  {
   "cell_type": "markdown",
   "metadata": {},
   "source": [
    "### (1) TO DO . Which of these variables would we choose as the target: LoanStatus or  LoanFirstDefaultedCycleNumber?"
   ]
  },
  {
   "cell_type": "markdown",
   "metadata": {
    "ExecuteTime": {
     "end_time": "2019-04-24T16:52:23.436960Z",
     "start_time": "2019-04-24T16:52:23.423333Z"
    }
   },
   "source": [
    "**Answer**: We are going to choose option B. Our feature target will be then **LoanFirstDefaultedCycleNumber**, because we are interested about analysing the \"maturity\", so the most important things are the historic information and therefore, how the loan has developed since their origination date of the loan.\n",
    "\n",
    "**LoanStatus** does only talk about the LAST STATUS of the loan. We cannot base on this column then to set up the TARGET"
   ]
  },
  {
   "cell_type": "markdown",
   "metadata": {},
   "source": [
    "## Step 3: Vintage Analysis"
   ]
  },
  {
   "cell_type": "markdown",
   "metadata": {},
   "source": [
    "*Vintage Analysis – Analyse portfolio performance on a vintage basis.*"
   ]
  },
  {
   "cell_type": "markdown",
   "metadata": {},
   "source": [
    "In this step we will modify some existing variables, for instance:\n",
    "- To capture the years since the loan was originated\n",
    "- To capture the quarter when the first default took place\n",
    "- Get volume of loans for each amount of years since origination\n",
    "- Get number of loans that are \"bad\" for each LoanMonthsSinceOrigination and LoanFirstDefaultedCycleNumber\n",
    "- Get ratio of bad loans"
   ]
  },
  {
   "cell_type": "code",
   "execution_count": 7,
   "metadata": {},
   "outputs": [
    {
     "data": {
      "text/plain": [
       "0   NaN\n",
       "1   NaN\n",
       "2   NaN\n",
       "3   NaN\n",
       "4   NaN\n",
       "Name: LoanFirstDefaultedCycleNumber, dtype: float64"
      ]
     },
     "execution_count": 7,
     "metadata": {},
     "output_type": "execute_result"
    }
   ],
   "source": [
    "df.LoanFirstDefaultedCycleNumber.head(5)"
   ]
  },
  {
   "cell_type": "markdown",
   "metadata": {},
   "source": [
    "The idea is to get a precentage of 'BADS LOANS' with the **BAD RATE** expression:\n",
    "\n",
    "- 1º: Feature **LoanMonthsSinceOrigination** is defined by number of months or years since the Loan origination.\n",
    "- 2º: We create the feature **LoanFirstDefaultedCycleNumberQ** in order to check the first quarter where the loan became defaulted of payment.\n",
    "- 3º: Our **df_vintage** will take the years since origination date plus the number of loans originated every single year so that we can have a clear comparison of them.\n",
    "- 4º step: We define our **BAD RATE**, which will be; number of bad loans / Total of loans"
   ]
  },
  {
   "cell_type": "code",
   "execution_count": 8,
   "metadata": {
    "ExecuteTime": {
     "end_time": "2019-04-25T18:05:57.634842Z",
     "start_time": "2019-04-25T18:05:57.276046Z"
    }
   },
   "outputs": [
    {
     "data": {
      "text/html": [
       "<div>\n",
       "<style scoped>\n",
       "    .dataframe tbody tr th:only-of-type {\n",
       "        vertical-align: middle;\n",
       "    }\n",
       "\n",
       "    .dataframe tbody tr th {\n",
       "        vertical-align: top;\n",
       "    }\n",
       "\n",
       "    .dataframe thead th {\n",
       "        text-align: right;\n",
       "    }\n",
       "</style>\n",
       "<table border=\"1\" class=\"dataframe\">\n",
       "  <thead>\n",
       "    <tr style=\"text-align: right;\">\n",
       "      <th></th>\n",
       "      <th>LoanMonthsSinceOriginationY</th>\n",
       "      <th>N_loans</th>\n",
       "      <th>LoanFirstDefaultedCycleNumberQ</th>\n",
       "      <th>N_bads</th>\n",
       "      <th>BR</th>\n",
       "    </tr>\n",
       "  </thead>\n",
       "  <tbody>\n",
       "    <tr>\n",
       "      <th>0</th>\n",
       "      <td>0.0</td>\n",
       "      <td>29808</td>\n",
       "      <td>4.0</td>\n",
       "      <td>1.0</td>\n",
       "      <td>0.003355</td>\n",
       "    </tr>\n",
       "    <tr>\n",
       "      <th>1</th>\n",
       "      <td>0.0</td>\n",
       "      <td>29808</td>\n",
       "      <td>8.0</td>\n",
       "      <td>3.0</td>\n",
       "      <td>0.010064</td>\n",
       "    </tr>\n",
       "    <tr>\n",
       "      <th>2</th>\n",
       "      <td>1.0</td>\n",
       "      <td>21134</td>\n",
       "      <td>0.0</td>\n",
       "      <td>3.0</td>\n",
       "      <td>0.014195</td>\n",
       "    </tr>\n",
       "    <tr>\n",
       "      <th>3</th>\n",
       "      <td>1.0</td>\n",
       "      <td>21134</td>\n",
       "      <td>4.0</td>\n",
       "      <td>18.0</td>\n",
       "      <td>0.085171</td>\n",
       "    </tr>\n",
       "    <tr>\n",
       "      <th>4</th>\n",
       "      <td>1.0</td>\n",
       "      <td>21134</td>\n",
       "      <td>8.0</td>\n",
       "      <td>462.0</td>\n",
       "      <td>2.186051</td>\n",
       "    </tr>\n",
       "    <tr>\n",
       "      <th>5</th>\n",
       "      <td>1.0</td>\n",
       "      <td>21134</td>\n",
       "      <td>12.0</td>\n",
       "      <td>622.0</td>\n",
       "      <td>2.943125</td>\n",
       "    </tr>\n",
       "    <tr>\n",
       "      <th>6</th>\n",
       "      <td>1.0</td>\n",
       "      <td>21134</td>\n",
       "      <td>16.0</td>\n",
       "      <td>712.0</td>\n",
       "      <td>3.368979</td>\n",
       "    </tr>\n",
       "    <tr>\n",
       "      <th>7</th>\n",
       "      <td>2.0</td>\n",
       "      <td>20122</td>\n",
       "      <td>0.0</td>\n",
       "      <td>8.0</td>\n",
       "      <td>0.039757</td>\n",
       "    </tr>\n",
       "    <tr>\n",
       "      <th>8</th>\n",
       "      <td>2.0</td>\n",
       "      <td>20122</td>\n",
       "      <td>4.0</td>\n",
       "      <td>93.0</td>\n",
       "      <td>0.462181</td>\n",
       "    </tr>\n",
       "    <tr>\n",
       "      <th>9</th>\n",
       "      <td>2.0</td>\n",
       "      <td>20122</td>\n",
       "      <td>8.0</td>\n",
       "      <td>1075.0</td>\n",
       "      <td>5.342411</td>\n",
       "    </tr>\n",
       "  </tbody>\n",
       "</table>\n",
       "</div>"
      ],
      "text/plain": [
       "   LoanMonthsSinceOriginationY  N_loans  LoanFirstDefaultedCycleNumberQ  \\\n",
       "0                          0.0    29808                             4.0   \n",
       "1                          0.0    29808                             8.0   \n",
       "2                          1.0    21134                             0.0   \n",
       "3                          1.0    21134                             4.0   \n",
       "4                          1.0    21134                             8.0   \n",
       "5                          1.0    21134                            12.0   \n",
       "6                          1.0    21134                            16.0   \n",
       "7                          2.0    20122                             0.0   \n",
       "8                          2.0    20122                             4.0   \n",
       "9                          2.0    20122                             8.0   \n",
       "\n",
       "   N_bads        BR  \n",
       "0     1.0  0.003355  \n",
       "1     3.0  0.010064  \n",
       "2     3.0  0.014195  \n",
       "3    18.0  0.085171  \n",
       "4   462.0  2.186051  \n",
       "5   622.0  2.943125  \n",
       "6   712.0  3.368979  \n",
       "7     8.0  0.039757  \n",
       "8    93.0  0.462181  \n",
       "9  1075.0  5.342411  "
      ]
     },
     "execution_count": 8,
     "metadata": {},
     "output_type": "execute_result"
    }
   ],
   "source": [
    "df['LoanMonthsSinceOriginationY'] = (df.LoanMonthsSinceOrigination / 12).round()\n",
    "df['LoanFirstDefaultedCycleNumberQ'] = 4 * (df.LoanFirstDefaultedCycleNumber / 4).round()\n",
    "df_vintage = df.groupby('LoanMonthsSinceOriginationY').agg({'LoanMonthsSinceOriginationY': 'size'})\\\n",
    "                                                     .rename(columns={'LoanMonthsSinceOriginationY': 'N_loans'})\\\n",
    "                                                     .reset_index()\n",
    "\n",
    "df['bad_aux'] = ~df['LoanFirstDefaultedCycleNumber'].isna()\n",
    "df_def_per_cycle = pd.DataFrame(df.groupby(['LoanMonthsSinceOriginationY', 'LoanFirstDefaultedCycleNumberQ'])['bad_aux'].\\\n",
    "                                sum().groupby(level=[0]).cumsum()).reset_index()\n",
    "\n",
    "df_def_per_cycle.columns = df_def_per_cycle.columns[:-1].tolist() +  ['N_bads']\n",
    "\n",
    "df_vintage = df_vintage.merge(df_def_per_cycle, on='LoanMonthsSinceOriginationY')\n",
    "df_vintage['BR'] = 100. * df_vintage['N_bads'] / df_vintage['N_loans']\n",
    "\n",
    "df_vintage.head(10)"
   ]
  },
  {
   "cell_type": "markdown",
   "metadata": {},
   "source": [
    "We are going to create a **PIVOT TABLE** in order to see the relationship between the first quarter of default payments and the years where the loan is alive itself since the origination date."
   ]
  },
  {
   "cell_type": "code",
   "execution_count": 9,
   "metadata": {
    "ExecuteTime": {
     "end_time": "2019-04-25T18:05:58.873298Z",
     "start_time": "2019-04-25T18:05:58.751628Z"
    }
   },
   "outputs": [
    {
     "data": {
      "text/html": [
       "<div>\n",
       "<style scoped>\n",
       "    .dataframe tbody tr th:only-of-type {\n",
       "        vertical-align: middle;\n",
       "    }\n",
       "\n",
       "    .dataframe tbody tr th {\n",
       "        vertical-align: top;\n",
       "    }\n",
       "\n",
       "    .dataframe thead th {\n",
       "        text-align: right;\n",
       "    }\n",
       "</style>\n",
       "<table border=\"1\" class=\"dataframe\">\n",
       "  <thead>\n",
       "    <tr style=\"text-align: right;\">\n",
       "      <th>LoanFirstDefaultedCycleNumberQ</th>\n",
       "      <th>0.0</th>\n",
       "      <th>4.0</th>\n",
       "      <th>8.0</th>\n",
       "      <th>12.0</th>\n",
       "      <th>16.0</th>\n",
       "      <th>20.0</th>\n",
       "      <th>24.0</th>\n",
       "      <th>28.0</th>\n",
       "      <th>32.0</th>\n",
       "      <th>36.0</th>\n",
       "      <th>40.0</th>\n",
       "      <th>44.0</th>\n",
       "    </tr>\n",
       "    <tr>\n",
       "      <th>LoanMonthsSinceOriginationY</th>\n",
       "      <th></th>\n",
       "      <th></th>\n",
       "      <th></th>\n",
       "      <th></th>\n",
       "      <th></th>\n",
       "      <th></th>\n",
       "      <th></th>\n",
       "      <th></th>\n",
       "      <th></th>\n",
       "      <th></th>\n",
       "      <th></th>\n",
       "      <th></th>\n",
       "    </tr>\n",
       "  </thead>\n",
       "  <tbody>\n",
       "    <tr>\n",
       "      <th>0.0</th>\n",
       "      <td>NaN</td>\n",
       "      <td>0.003355</td>\n",
       "      <td>0.010064</td>\n",
       "      <td>NaN</td>\n",
       "      <td>NaN</td>\n",
       "      <td>NaN</td>\n",
       "      <td>NaN</td>\n",
       "      <td>NaN</td>\n",
       "      <td>NaN</td>\n",
       "      <td>NaN</td>\n",
       "      <td>NaN</td>\n",
       "      <td>NaN</td>\n",
       "    </tr>\n",
       "    <tr>\n",
       "      <th>1.0</th>\n",
       "      <td>0.014195</td>\n",
       "      <td>0.085171</td>\n",
       "      <td>2.186051</td>\n",
       "      <td>2.943125</td>\n",
       "      <td>3.368979</td>\n",
       "      <td>NaN</td>\n",
       "      <td>NaN</td>\n",
       "      <td>NaN</td>\n",
       "      <td>NaN</td>\n",
       "      <td>NaN</td>\n",
       "      <td>NaN</td>\n",
       "      <td>NaN</td>\n",
       "    </tr>\n",
       "    <tr>\n",
       "      <th>2.0</th>\n",
       "      <td>0.039757</td>\n",
       "      <td>0.462181</td>\n",
       "      <td>5.342411</td>\n",
       "      <td>8.180101</td>\n",
       "      <td>12.160819</td>\n",
       "      <td>13.850512</td>\n",
       "      <td>15.132691</td>\n",
       "      <td>15.321539</td>\n",
       "      <td>15.326508</td>\n",
       "      <td>NaN</td>\n",
       "      <td>NaN</td>\n",
       "      <td>NaN</td>\n",
       "    </tr>\n",
       "    <tr>\n",
       "      <th>3.0</th>\n",
       "      <td>0.497830</td>\n",
       "      <td>0.931836</td>\n",
       "      <td>5.731427</td>\n",
       "      <td>8.424815</td>\n",
       "      <td>12.215982</td>\n",
       "      <td>14.003064</td>\n",
       "      <td>16.504978</td>\n",
       "      <td>17.870820</td>\n",
       "      <td>19.019658</td>\n",
       "      <td>19.211131</td>\n",
       "      <td>19.223896</td>\n",
       "      <td>NaN</td>\n",
       "    </tr>\n",
       "    <tr>\n",
       "      <th>4.0</th>\n",
       "      <td>1.117222</td>\n",
       "      <td>1.460983</td>\n",
       "      <td>4.417326</td>\n",
       "      <td>6.170505</td>\n",
       "      <td>8.765899</td>\n",
       "      <td>10.072190</td>\n",
       "      <td>12.220694</td>\n",
       "      <td>13.234789</td>\n",
       "      <td>14.575455</td>\n",
       "      <td>15.177037</td>\n",
       "      <td>15.830182</td>\n",
       "      <td>NaN</td>\n",
       "    </tr>\n",
       "    <tr>\n",
       "      <th>5.0</th>\n",
       "      <td>0.861009</td>\n",
       "      <td>NaN</td>\n",
       "      <td>6.150062</td>\n",
       "      <td>9.963100</td>\n",
       "      <td>14.022140</td>\n",
       "      <td>15.252153</td>\n",
       "      <td>17.958180</td>\n",
       "      <td>19.311193</td>\n",
       "      <td>20.541205</td>\n",
       "      <td>21.156212</td>\n",
       "      <td>22.017220</td>\n",
       "      <td>NaN</td>\n",
       "    </tr>\n",
       "    <tr>\n",
       "      <th>6.0</th>\n",
       "      <td>1.280445</td>\n",
       "      <td>1.851079</td>\n",
       "      <td>8.427279</td>\n",
       "      <td>12.985386</td>\n",
       "      <td>20.215727</td>\n",
       "      <td>23.291580</td>\n",
       "      <td>27.446068</td>\n",
       "      <td>29.485038</td>\n",
       "      <td>31.649269</td>\n",
       "      <td>32.713987</td>\n",
       "      <td>34.036186</td>\n",
       "      <td>34.043145</td>\n",
       "    </tr>\n",
       "    <tr>\n",
       "      <th>7.0</th>\n",
       "      <td>1.988015</td>\n",
       "      <td>2.872634</td>\n",
       "      <td>13.297822</td>\n",
       "      <td>18.814801</td>\n",
       "      <td>25.292495</td>\n",
       "      <td>28.659755</td>\n",
       "      <td>33.368211</td>\n",
       "      <td>35.708171</td>\n",
       "      <td>38.761533</td>\n",
       "      <td>40.017122</td>\n",
       "      <td>41.396366</td>\n",
       "      <td>NaN</td>\n",
       "    </tr>\n",
       "    <tr>\n",
       "      <th>8.0</th>\n",
       "      <td>1.276596</td>\n",
       "      <td>2.723404</td>\n",
       "      <td>11.177305</td>\n",
       "      <td>15.829787</td>\n",
       "      <td>22.978723</td>\n",
       "      <td>25.929078</td>\n",
       "      <td>29.900709</td>\n",
       "      <td>31.659574</td>\n",
       "      <td>34.269504</td>\n",
       "      <td>35.659574</td>\n",
       "      <td>36.964539</td>\n",
       "      <td>NaN</td>\n",
       "    </tr>\n",
       "  </tbody>\n",
       "</table>\n",
       "</div>"
      ],
      "text/plain": [
       "LoanFirstDefaultedCycleNumberQ      0.0       4.0        8.0        12.0  \\\n",
       "LoanMonthsSinceOriginationY                                                \n",
       "0.0                                  NaN  0.003355   0.010064        NaN   \n",
       "1.0                             0.014195  0.085171   2.186051   2.943125   \n",
       "2.0                             0.039757  0.462181   5.342411   8.180101   \n",
       "3.0                             0.497830  0.931836   5.731427   8.424815   \n",
       "4.0                             1.117222  1.460983   4.417326   6.170505   \n",
       "5.0                             0.861009       NaN   6.150062   9.963100   \n",
       "6.0                             1.280445  1.851079   8.427279  12.985386   \n",
       "7.0                             1.988015  2.872634  13.297822  18.814801   \n",
       "8.0                             1.276596  2.723404  11.177305  15.829787   \n",
       "\n",
       "LoanFirstDefaultedCycleNumberQ       16.0       20.0       24.0       28.0  \\\n",
       "LoanMonthsSinceOriginationY                                                  \n",
       "0.0                                   NaN        NaN        NaN        NaN   \n",
       "1.0                              3.368979        NaN        NaN        NaN   \n",
       "2.0                             12.160819  13.850512  15.132691  15.321539   \n",
       "3.0                             12.215982  14.003064  16.504978  17.870820   \n",
       "4.0                              8.765899  10.072190  12.220694  13.234789   \n",
       "5.0                             14.022140  15.252153  17.958180  19.311193   \n",
       "6.0                             20.215727  23.291580  27.446068  29.485038   \n",
       "7.0                             25.292495  28.659755  33.368211  35.708171   \n",
       "8.0                             22.978723  25.929078  29.900709  31.659574   \n",
       "\n",
       "LoanFirstDefaultedCycleNumberQ       32.0       36.0       40.0       44.0  \n",
       "LoanMonthsSinceOriginationY                                                 \n",
       "0.0                                   NaN        NaN        NaN        NaN  \n",
       "1.0                                   NaN        NaN        NaN        NaN  \n",
       "2.0                             15.326508        NaN        NaN        NaN  \n",
       "3.0                             19.019658  19.211131  19.223896        NaN  \n",
       "4.0                             14.575455  15.177037  15.830182        NaN  \n",
       "5.0                             20.541205  21.156212  22.017220        NaN  \n",
       "6.0                             31.649269  32.713987  34.036186  34.043145  \n",
       "7.0                             38.761533  40.017122  41.396366        NaN  \n",
       "8.0                             34.269504  35.659574  36.964539        NaN  "
      ]
     },
     "execution_count": 9,
     "metadata": {},
     "output_type": "execute_result"
    }
   ],
   "source": [
    "df_vin_pvt = df_vintage.pivot(index='LoanMonthsSinceOriginationY', columns='LoanFirstDefaultedCycleNumberQ', values='BR')\n",
    "df_vin_pvt"
   ]
  },
  {
   "cell_type": "code",
   "execution_count": 10,
   "metadata": {
    "ExecuteTime": {
     "end_time": "2019-04-25T18:06:02.340733Z",
     "start_time": "2019-04-25T18:06:01.361855Z"
    }
   },
   "outputs": [
    {
     "data": {
      "image/png": "[encoded data removed]",
      "text/plain": [
       "<Figure size 720x504 with 1 Axes>"
      ]
     },
     "metadata": {},
     "output_type": "display_data"
    }
   ],
   "source": [
    "from pylab import rcParams\n",
    "x = df_vin_pvt.transpose()\n",
    "rcParams['figure.figsize'] = 10, 7\n",
    "plt.plot(x)\n",
    "leg = plt.legend(x, loc='upper left', frameon= True, title = \"Loan Years Since Origination\")\n",
    "plt.xlabel(\"Loan First Default Cycle Number in Quarters\")\n",
    "plt.ylabel(\"Percent of Bad Loans\")\n",
    "# Place a legend to the right of this smaller subplot.\n",
    "plt.show()"
   ]
  },
  {
   "cell_type": "markdown",
   "metadata": {},
   "source": [
    "Observations: if we look at the graph above, we can see that the percentage of bad loans is much higher when they have been originated since 6+ years. If we look at those loans originated since 0-5 years, they are not so bad."
   ]
  },
  {
   "cell_type": "markdown",
   "metadata": {},
   "source": [
    "## Step 4: Good, bad, indeterminate definition"
   ]
  },
  {
   "cell_type": "markdown",
   "metadata": {},
   "source": [
    "### **(2) TO DO**. Create \"fraud\", \"bad\", and \"indeterm\" columns. Given a dataframe, use  Performance Window and  Fraud Threshold (number of months) as inputs (fix the fraud threshold at 4 months). Return a dataframe with the new columns as an output."
   ]
  },
  {
   "cell_type": "code",
   "execution_count": 11,
   "metadata": {
    "ExecuteTime": {
     "end_time": "2019-04-25T18:44:26.688031Z",
     "start_time": "2019-04-25T18:44:26.655387Z"
    }
   },
   "outputs": [],
   "source": [
    "def generate_pop_flags(df, PW_size, TH_fraud=4):\n",
    "    \"\"\"Generates fraud, bad, and indeterminate columns\n",
    "    Vamos a realizar una pequeña modificación en la anterior función\n",
    "    con objetivo de que se devuelva una variable nueva\n",
    "    \n",
    "    Args:\n",
    "        df: Pandas DataFrame with the input data\n",
    "        PW_size: Int Performance window size (months)\n",
    "        TH_fraud: Int number of months used as treshold for fraud\n",
    "        \n",
    "    Returns:\n",
    "        Pandas DataFrame with the columns that capture\n",
    "        fraud, bad and indeterminate\n",
    "    \"\"\"\n",
    "    res = pd.DataFrame()\n",
    "    #PW maturity\n",
    "    res['PW'] = df.LoanMonthsSinceOrigination >= PW_size\n",
    "    #handle fraud \n",
    "    res['fraud'] = df.LoanFirstDefaultedCycleNumber <= TH_fraud\n",
    "    #bad definition\n",
    "    res['bad'] = (df.LoanFirstDefaultedCycleNumber > TH_fraud) & (df.LoanFirstDefaultedCycleNumber <= PW_size)\n",
    "    #indeterminates\n",
    "    res['indeterm'] = (df.LoanFirstDefaultedCycleNumber > PW_size)\n",
    "    res.loc[(res.bad == 0) & (df.LoanCurrentDaysDelinquent > 30), 'indeterm'] = True\n",
    "    return df.join(res)"
   ]
  },
  {
   "cell_type": "markdown",
   "metadata": {},
   "source": [
    "With that modification, we are going to be able to try easily different paramethers for the PW and the fraud Threshold (TH_fraud)"
   ]
  },
  {
   "cell_type": "code",
   "execution_count": 12,
   "metadata": {},
   "outputs": [
    {
     "data": {
      "text/html": [
       "<div>\n",
       "<style scoped>\n",
       "    .dataframe tbody tr th:only-of-type {\n",
       "        vertical-align: middle;\n",
       "    }\n",
       "\n",
       "    .dataframe tbody tr th {\n",
       "        vertical-align: top;\n",
       "    }\n",
       "\n",
       "    .dataframe thead th {\n",
       "        text-align: right;\n",
       "    }\n",
       "</style>\n",
       "<table border=\"1\" class=\"dataframe\">\n",
       "  <thead>\n",
       "    <tr style=\"text-align: right;\">\n",
       "      <th></th>\n",
       "      <th>ListingKey</th>\n",
       "      <th>ListingNumber</th>\n",
       "      <th>ListingCreationDate</th>\n",
       "      <th>CreditGrade</th>\n",
       "      <th>Term</th>\n",
       "      <th>LoanStatus</th>\n",
       "      <th>ClosedDate</th>\n",
       "      <th>BorrowerAPR</th>\n",
       "      <th>BorrowerRate</th>\n",
       "      <th>LenderYield</th>\n",
       "      <th>...</th>\n",
       "      <th>LP_NetPrincipalLoss</th>\n",
       "      <th>LP_NonPrincipalRecoverypayments</th>\n",
       "      <th>PercentFunded</th>\n",
       "      <th>Recommendations</th>\n",
       "      <th>InvestmentFromFriendsCount</th>\n",
       "      <th>InvestmentFromFriendsAmount</th>\n",
       "      <th>Investors</th>\n",
       "      <th>LoanMonthsSinceOriginationY</th>\n",
       "      <th>LoanFirstDefaultedCycleNumberQ</th>\n",
       "      <th>bad_aux</th>\n",
       "    </tr>\n",
       "  </thead>\n",
       "  <tbody>\n",
       "    <tr>\n",
       "      <th>0</th>\n",
       "      <td>1021339766868145413AB3B</td>\n",
       "      <td>193129</td>\n",
       "      <td>2007-08-26 19:09:29.263000000</td>\n",
       "      <td>C</td>\n",
       "      <td>36</td>\n",
       "      <td>Completed</td>\n",
       "      <td>2009-08-14 00:00:00</td>\n",
       "      <td>0.16516</td>\n",
       "      <td>0.1580</td>\n",
       "      <td>0.1380</td>\n",
       "      <td>...</td>\n",
       "      <td>0.0</td>\n",
       "      <td>0.0</td>\n",
       "      <td>1.0</td>\n",
       "      <td>0</td>\n",
       "      <td>0</td>\n",
       "      <td>0.0</td>\n",
       "      <td>258</td>\n",
       "      <td>6.0</td>\n",
       "      <td>NaN</td>\n",
       "      <td>False</td>\n",
       "    </tr>\n",
       "    <tr>\n",
       "      <th>1</th>\n",
       "      <td>10273602499503308B223C1</td>\n",
       "      <td>1209647</td>\n",
       "      <td>2014-02-27 08:28:07.900000000</td>\n",
       "      <td>NaN</td>\n",
       "      <td>36</td>\n",
       "      <td>Current</td>\n",
       "      <td>NaN</td>\n",
       "      <td>0.12016</td>\n",
       "      <td>0.0920</td>\n",
       "      <td>0.0820</td>\n",
       "      <td>...</td>\n",
       "      <td>0.0</td>\n",
       "      <td>0.0</td>\n",
       "      <td>1.0</td>\n",
       "      <td>0</td>\n",
       "      <td>0</td>\n",
       "      <td>0.0</td>\n",
       "      <td>1</td>\n",
       "      <td>0.0</td>\n",
       "      <td>NaN</td>\n",
       "      <td>False</td>\n",
       "    </tr>\n",
       "    <tr>\n",
       "      <th>2</th>\n",
       "      <td>0EE9337825851032864889A</td>\n",
       "      <td>81716</td>\n",
       "      <td>2007-01-05 15:00:47.090000000</td>\n",
       "      <td>HR</td>\n",
       "      <td>36</td>\n",
       "      <td>Completed</td>\n",
       "      <td>2009-12-17 00:00:00</td>\n",
       "      <td>0.28269</td>\n",
       "      <td>0.2750</td>\n",
       "      <td>0.2400</td>\n",
       "      <td>...</td>\n",
       "      <td>0.0</td>\n",
       "      <td>0.0</td>\n",
       "      <td>1.0</td>\n",
       "      <td>0</td>\n",
       "      <td>0</td>\n",
       "      <td>0.0</td>\n",
       "      <td>41</td>\n",
       "      <td>7.0</td>\n",
       "      <td>NaN</td>\n",
       "      <td>False</td>\n",
       "    </tr>\n",
       "    <tr>\n",
       "      <th>3</th>\n",
       "      <td>0EF5356002482715299901A</td>\n",
       "      <td>658116</td>\n",
       "      <td>2012-10-22 11:02:35.010000000</td>\n",
       "      <td>NaN</td>\n",
       "      <td>36</td>\n",
       "      <td>Current</td>\n",
       "      <td>NaN</td>\n",
       "      <td>0.12528</td>\n",
       "      <td>0.0974</td>\n",
       "      <td>0.0874</td>\n",
       "      <td>...</td>\n",
       "      <td>0.0</td>\n",
       "      <td>0.0</td>\n",
       "      <td>1.0</td>\n",
       "      <td>0</td>\n",
       "      <td>0</td>\n",
       "      <td>0.0</td>\n",
       "      <td>158</td>\n",
       "      <td>1.0</td>\n",
       "      <td>NaN</td>\n",
       "      <td>False</td>\n",
       "    </tr>\n",
       "    <tr>\n",
       "      <th>4</th>\n",
       "      <td>0F023589499656230C5E3E2</td>\n",
       "      <td>909464</td>\n",
       "      <td>2013-09-14 18:38:39.097000000</td>\n",
       "      <td>NaN</td>\n",
       "      <td>36</td>\n",
       "      <td>Current</td>\n",
       "      <td>NaN</td>\n",
       "      <td>0.24614</td>\n",
       "      <td>0.2085</td>\n",
       "      <td>0.1985</td>\n",
       "      <td>...</td>\n",
       "      <td>0.0</td>\n",
       "      <td>0.0</td>\n",
       "      <td>1.0</td>\n",
       "      <td>0</td>\n",
       "      <td>0</td>\n",
       "      <td>0.0</td>\n",
       "      <td>20</td>\n",
       "      <td>0.0</td>\n",
       "      <td>NaN</td>\n",
       "      <td>False</td>\n",
       "    </tr>\n",
       "  </tbody>\n",
       "</table>\n",
       "<p>5 rows × 84 columns</p>\n",
       "</div>"
      ],
      "text/plain": [
       "                ListingKey  ListingNumber            ListingCreationDate  \\\n",
       "0  1021339766868145413AB3B         193129  2007-08-26 19:09:29.263000000   \n",
       "1  10273602499503308B223C1        1209647  2014-02-27 08:28:07.900000000   \n",
       "2  0EE9337825851032864889A          81716  2007-01-05 15:00:47.090000000   \n",
       "3  0EF5356002482715299901A         658116  2012-10-22 11:02:35.010000000   \n",
       "4  0F023589499656230C5E3E2         909464  2013-09-14 18:38:39.097000000   \n",
       "\n",
       "  CreditGrade  Term LoanStatus           ClosedDate  BorrowerAPR  \\\n",
       "0           C    36  Completed  2009-08-14 00:00:00      0.16516   \n",
       "1         NaN    36    Current                  NaN      0.12016   \n",
       "2          HR    36  Completed  2009-12-17 00:00:00      0.28269   \n",
       "3         NaN    36    Current                  NaN      0.12528   \n",
       "4         NaN    36    Current                  NaN      0.24614   \n",
       "\n",
       "   BorrowerRate  LenderYield   ...    LP_NetPrincipalLoss  \\\n",
       "0        0.1580       0.1380   ...                    0.0   \n",
       "1        0.0920       0.0820   ...                    0.0   \n",
       "2        0.2750       0.2400   ...                    0.0   \n",
       "3        0.0974       0.0874   ...                    0.0   \n",
       "4        0.2085       0.1985   ...                    0.0   \n",
       "\n",
       "   LP_NonPrincipalRecoverypayments  PercentFunded  Recommendations  \\\n",
       "0                              0.0            1.0                0   \n",
       "1                              0.0            1.0                0   \n",
       "2                              0.0            1.0                0   \n",
       "3                              0.0            1.0                0   \n",
       "4                              0.0            1.0                0   \n",
       "\n",
       "  InvestmentFromFriendsCount  InvestmentFromFriendsAmount  Investors  \\\n",
       "0                          0                          0.0        258   \n",
       "1                          0                          0.0          1   \n",
       "2                          0                          0.0         41   \n",
       "3                          0                          0.0        158   \n",
       "4                          0                          0.0         20   \n",
       "\n",
       "  LoanMonthsSinceOriginationY LoanFirstDefaultedCycleNumberQ bad_aux  \n",
       "0                         6.0                            NaN   False  \n",
       "1                         0.0                            NaN   False  \n",
       "2                         7.0                            NaN   False  \n",
       "3                         1.0                            NaN   False  \n",
       "4                         0.0                            NaN   False  \n",
       "\n",
       "[5 rows x 84 columns]"
      ]
     },
     "execution_count": 12,
     "metadata": {},
     "output_type": "execute_result"
    }
   ],
   "source": [
    "df.head(5)"
   ]
  },
  {
   "cell_type": "markdown",
   "metadata": {},
   "source": [
    "### (3) TO DO. Use different PW sizes, and get the counts and rates for the main population flags (Has PW, Fraud, Bad, Indeterm). Explain which PW size should be used, and pick that one as the final one."
   ]
  },
  {
   "cell_type": "markdown",
   "metadata": {},
   "source": [
    "### If we set PW at 6 months:"
   ]
  },
  {
   "cell_type": "code",
   "execution_count": 13,
   "metadata": {},
   "outputs": [
    {
     "data": {
      "text/plain": [
       "PW          87315\n",
       "fraud         562\n",
       "bad          1096\n",
       "indeterm    16955\n",
       "dtype: int64"
      ]
     },
     "execution_count": 13,
     "metadata": {},
     "output_type": "execute_result"
    }
   ],
   "source": [
    "first = generate_pop_flags(df, 6) # PW_size = 6\n",
    "first[['PW', 'fraud', 'bad', 'indeterm']].sum()"
   ]
  },
  {
   "cell_type": "code",
   "execution_count": 14,
   "metadata": {},
   "outputs": [
    {
     "data": {
      "text/plain": [
       "PW          81069\n",
       "fraud        1658\n",
       "bad          1834\n",
       "indeterm    16215\n",
       "dtype: int64"
      ]
     },
     "execution_count": 14,
     "metadata": {},
     "output_type": "execute_result"
    }
   ],
   "source": [
    "second = generate_pop_flags(df, 8, 6) #Pw_size = 8, TH_Fraud = 6\n",
    "second[['PW', 'fraud', 'bad', 'indeterm']].sum()"
   ]
  },
  {
   "cell_type": "markdown",
   "metadata": {},
   "source": [
    "### If we set PW at 12 months:"
   ]
  },
  {
   "cell_type": "code",
   "execution_count": 16,
   "metadata": {},
   "outputs": [
    {
     "data": {
      "text/plain": [
       "PW          71036\n",
       "fraud         562\n",
       "bad          6397\n",
       "indeterm    11654\n",
       "dtype: int64"
      ]
     },
     "execution_count": 16,
     "metadata": {},
     "output_type": "execute_result"
    }
   ],
   "source": [
    "doce = generate_pop_flags(df, 12)\n",
    "doce[['PW', 'fraud', 'bad', 'indeterm']].sum()"
   ]
  },
  {
   "cell_type": "markdown",
   "metadata": {},
   "source": [
    "### If we set PW at 18 months:"
   ]
  },
  {
   "cell_type": "code",
   "execution_count": 17,
   "metadata": {},
   "outputs": [
    {
     "data": {
      "text/plain": [
       "PW          62995\n",
       "fraud         562\n",
       "bad         10555\n",
       "indeterm     7496\n",
       "dtype: int64"
      ]
     },
     "execution_count": 17,
     "metadata": {},
     "output_type": "execute_result"
    }
   ],
   "source": [
    "eighteen = generate_pop_flags(df, 18)\n",
    "eighteen[['PW', 'fraud', 'bad', 'indeterm']].sum()"
   ]
  },
  {
   "cell_type": "markdown",
   "metadata": {},
   "source": [
    "### If we set PW at 24 months:"
   ]
  },
  {
   "cell_type": "code",
   "execution_count": 19,
   "metadata": {},
   "outputs": [
    {
     "data": {
      "text/plain": [
       "PW          52302\n",
       "fraud         562\n",
       "bad         13195\n",
       "indeterm     4856\n",
       "dtype: int64"
      ]
     },
     "execution_count": 19,
     "metadata": {},
     "output_type": "execute_result"
    }
   ],
   "source": [
    "twentyfour = generate_pop_flags(df, 24)\n",
    "twentyfour[['PW', 'fraud', 'bad', 'indeterm']].sum()"
   ]
  },
  {
   "cell_type": "code",
   "execution_count": 20,
   "metadata": {},
   "outputs": [
    {
     "name": "stdout",
     "output_type": "stream",
     "text": [
      "These are the amount of observations per value, for each variable. \n",
      "  \n",
      " For PW: \n",
      " False    61635\n",
      "True     52302\n",
      "Name: PW, dtype: int64, \n",
      " \n",
      " For Fraud: \n",
      " False    113375\n",
      "True        562\n",
      "Name: fraud, dtype: int64, \n",
      " \n",
      " For Bad Loans: \n",
      " False    100742\n",
      "True      13195\n",
      "Name: bad, dtype: int64, \n",
      " \n",
      " For Indeterm Loans: \n",
      " False    109081\n",
      "True       4856\n",
      "Name: indeterm, dtype: int64\n"
     ]
    }
   ],
   "source": [
    "print(\"These are the amount of observations per value, for each variable. \\n  \\n For PW: \\n {}, \\n \\n For Fraud: \\n {}, \\n \\n For Bad Loans: \\n {}, \\n \\n For Indeterm Loans: \\n {}\".\\\n",
    "      format(df.PW.value_counts(), df.fraud.value_counts(), df.bad.value_counts(), df.indeterm.value_counts()))"
   ]
  },
  {
   "cell_type": "markdown",
   "metadata": {},
   "source": [
    "### If we set PW at 36 months:"
   ]
  },
  {
   "cell_type": "code",
   "execution_count": 20,
   "metadata": {},
   "outputs": [
    {
     "data": {
      "text/plain": [
       "PW          38383\n",
       "fraud         562\n",
       "bad         15850\n",
       "indeterm     2201\n",
       "dtype: int64"
      ]
     },
     "execution_count": 20,
     "metadata": {},
     "output_type": "execute_result"
    }
   ],
   "source": [
    "thirtysix = generate_pop_flags(df, 36)\n",
    "thirtysix[['PW', 'fraud', 'bad', 'indeterm']].sum()"
   ]
  },
  {
   "cell_type": "code",
   "execution_count": 23,
   "metadata": {},
   "outputs": [
    {
     "name": "stdout",
     "output_type": "stream",
     "text": [
      "These are the amount of observations per value, for each variable. \n",
      "  \n",
      " For PW: \n",
      " False    75554\n",
      "True     38383\n",
      "Name: PW, dtype: int64, \n",
      " \n",
      " For Fraud: \n",
      " False    113375\n",
      "True        562\n",
      "Name: fraud, dtype: int64, \n",
      " \n",
      " For Bad Loans: \n",
      " False    98087\n",
      "True     15850\n",
      "Name: bad, dtype: int64, \n",
      " \n",
      " For Indeterm Loans: \n",
      " False    111736\n",
      "True       2201\n",
      "Name: indeterm, dtype: int64\n"
     ]
    }
   ],
   "source": [
    "print(\"These are the amount of observations per value, for each variable. \\n  \\n For PW: \\n {}, \\n \\n For Fraud: \\n {}, \\n \\n For Bad Loans: \\n {}, \\n \\n For Indeterm Loans: \\n {}\".\\\n",
    "      format(df.PW.value_counts(), df.fraud.value_counts(), df.bad.value_counts(), df.indeterm.value_counts()))"
   ]
  },
  {
   "cell_type": "markdown",
   "metadata": {},
   "source": [
    "### (4) TO DO. Choose PW size.\n",
    "\n",
    "**Answer**: We set the performance window at **18 months**. The reason we chose this number and not 24 months, for instance, is because a performance window should have a wide timeframe to hold enough events (pw, fraud, bad, indeterm rates show this). With 18 months we have 45% of the population inside that timeframe, and we also have a good balance of different events. If we look at PW = 36 months, the data available decreases, since we have 33% of the population inside the performance window, compared to a 45% with PW = 18. We also see the rates of bad loans are so much higher, but the rest of the events are less balanced (very low rates for fraud and indeterm). This makes sense because we have less observations inside the performance window (many loans have already matured). \n",
    "\n",
    "As a conclusion, 18 months seems to be a good number to capture the amount of bad, fraudulent or indeterm loans. 24 months could also be a good option, but we chose 18 months to have a reasonable timeframe of analysis. Also, credit risk modeling practices suggest the window of performance is usually between 12-24 months."
   ]
  },
  {
   "cell_type": "code",
   "execution_count": 21,
   "metadata": {},
   "outputs": [
    {
     "data": {
      "text/plain": [
       "PW          62995\n",
       "fraud         562\n",
       "bad         10555\n",
       "indeterm     7496\n",
       "dtype: int64"
      ]
     },
     "execution_count": 21,
     "metadata": {},
     "output_type": "execute_result"
    }
   ],
   "source": [
    "eighteen = generate_pop_flags(df, 18)\n",
    "eighteen[['PW', 'fraud', 'bad', 'indeterm']].sum()"
   ]
  },
  {
   "cell_type": "code",
   "execution_count": 22,
   "metadata": {},
   "outputs": [
    {
     "data": {
      "text/html": [
       "<div>\n",
       "<style scoped>\n",
       "    .dataframe tbody tr th:only-of-type {\n",
       "        vertical-align: middle;\n",
       "    }\n",
       "\n",
       "    .dataframe tbody tr th {\n",
       "        vertical-align: top;\n",
       "    }\n",
       "\n",
       "    .dataframe thead th {\n",
       "        text-align: right;\n",
       "    }\n",
       "</style>\n",
       "<table border=\"1\" class=\"dataframe\">\n",
       "  <thead>\n",
       "    <tr style=\"text-align: right;\">\n",
       "      <th></th>\n",
       "      <th>ListingKey</th>\n",
       "      <th>ListingNumber</th>\n",
       "      <th>ListingCreationDate</th>\n",
       "      <th>CreditGrade</th>\n",
       "      <th>Term</th>\n",
       "      <th>LoanStatus</th>\n",
       "      <th>ClosedDate</th>\n",
       "      <th>BorrowerAPR</th>\n",
       "      <th>BorrowerRate</th>\n",
       "      <th>LenderYield</th>\n",
       "      <th>...</th>\n",
       "      <th>InvestmentFromFriendsCount</th>\n",
       "      <th>InvestmentFromFriendsAmount</th>\n",
       "      <th>Investors</th>\n",
       "      <th>LoanMonthsSinceOriginationY</th>\n",
       "      <th>LoanFirstDefaultedCycleNumberQ</th>\n",
       "      <th>bad_aux</th>\n",
       "      <th>PW</th>\n",
       "      <th>fraud</th>\n",
       "      <th>bad</th>\n",
       "      <th>indeterm</th>\n",
       "    </tr>\n",
       "  </thead>\n",
       "  <tbody>\n",
       "    <tr>\n",
       "      <th>0</th>\n",
       "      <td>1021339766868145413AB3B</td>\n",
       "      <td>193129</td>\n",
       "      <td>2007-08-26 19:09:29.263000000</td>\n",
       "      <td>C</td>\n",
       "      <td>36</td>\n",
       "      <td>Completed</td>\n",
       "      <td>2009-08-14 00:00:00</td>\n",
       "      <td>0.16516</td>\n",
       "      <td>0.158</td>\n",
       "      <td>0.138</td>\n",
       "      <td>...</td>\n",
       "      <td>0</td>\n",
       "      <td>0.0</td>\n",
       "      <td>258</td>\n",
       "      <td>6.0</td>\n",
       "      <td>NaN</td>\n",
       "      <td>False</td>\n",
       "      <td>True</td>\n",
       "      <td>False</td>\n",
       "      <td>False</td>\n",
       "      <td>False</td>\n",
       "    </tr>\n",
       "    <tr>\n",
       "      <th>1</th>\n",
       "      <td>10273602499503308B223C1</td>\n",
       "      <td>1209647</td>\n",
       "      <td>2014-02-27 08:28:07.900000000</td>\n",
       "      <td>NaN</td>\n",
       "      <td>36</td>\n",
       "      <td>Current</td>\n",
       "      <td>NaN</td>\n",
       "      <td>0.12016</td>\n",
       "      <td>0.092</td>\n",
       "      <td>0.082</td>\n",
       "      <td>...</td>\n",
       "      <td>0</td>\n",
       "      <td>0.0</td>\n",
       "      <td>1</td>\n",
       "      <td>0.0</td>\n",
       "      <td>NaN</td>\n",
       "      <td>False</td>\n",
       "      <td>False</td>\n",
       "      <td>False</td>\n",
       "      <td>False</td>\n",
       "      <td>False</td>\n",
       "    </tr>\n",
       "  </tbody>\n",
       "</table>\n",
       "<p>2 rows × 88 columns</p>\n",
       "</div>"
      ],
      "text/plain": [
       "                ListingKey  ListingNumber            ListingCreationDate  \\\n",
       "0  1021339766868145413AB3B         193129  2007-08-26 19:09:29.263000000   \n",
       "1  10273602499503308B223C1        1209647  2014-02-27 08:28:07.900000000   \n",
       "\n",
       "  CreditGrade  Term LoanStatus           ClosedDate  BorrowerAPR  \\\n",
       "0           C    36  Completed  2009-08-14 00:00:00      0.16516   \n",
       "1         NaN    36    Current                  NaN      0.12016   \n",
       "\n",
       "   BorrowerRate  LenderYield   ...     InvestmentFromFriendsCount  \\\n",
       "0         0.158        0.138   ...                              0   \n",
       "1         0.092        0.082   ...                              0   \n",
       "\n",
       "   InvestmentFromFriendsAmount  Investors  LoanMonthsSinceOriginationY  \\\n",
       "0                          0.0        258                          6.0   \n",
       "1                          0.0          1                          0.0   \n",
       "\n",
       "  LoanFirstDefaultedCycleNumberQ  bad_aux     PW  fraud    bad indeterm  \n",
       "0                            NaN    False   True  False  False    False  \n",
       "1                            NaN    False  False  False  False    False  \n",
       "\n",
       "[2 rows x 88 columns]"
      ]
     },
     "execution_count": 22,
     "metadata": {},
     "output_type": "execute_result"
    }
   ],
   "source": [
    "generate_pop_flags(df, 18).head(2)"
   ]
  },
  {
   "cell_type": "code",
   "execution_count": 23,
   "metadata": {},
   "outputs": [
    {
     "data": {
      "text/html": [
       "<div>\n",
       "<style scoped>\n",
       "    .dataframe tbody tr th:only-of-type {\n",
       "        vertical-align: middle;\n",
       "    }\n",
       "\n",
       "    .dataframe tbody tr th {\n",
       "        vertical-align: top;\n",
       "    }\n",
       "\n",
       "    .dataframe thead th {\n",
       "        text-align: right;\n",
       "    }\n",
       "</style>\n",
       "<table border=\"1\" class=\"dataframe\">\n",
       "  <thead>\n",
       "    <tr style=\"text-align: right;\">\n",
       "      <th></th>\n",
       "      <th>ListingKey</th>\n",
       "      <th>ListingNumber</th>\n",
       "      <th>ListingCreationDate</th>\n",
       "      <th>CreditGrade</th>\n",
       "      <th>Term</th>\n",
       "      <th>LoanStatus</th>\n",
       "      <th>ClosedDate</th>\n",
       "      <th>BorrowerAPR</th>\n",
       "      <th>BorrowerRate</th>\n",
       "      <th>LenderYield</th>\n",
       "      <th>...</th>\n",
       "      <th>LP_NetPrincipalLoss</th>\n",
       "      <th>LP_NonPrincipalRecoverypayments</th>\n",
       "      <th>PercentFunded</th>\n",
       "      <th>Recommendations</th>\n",
       "      <th>InvestmentFromFriendsCount</th>\n",
       "      <th>InvestmentFromFriendsAmount</th>\n",
       "      <th>Investors</th>\n",
       "      <th>LoanMonthsSinceOriginationY</th>\n",
       "      <th>LoanFirstDefaultedCycleNumberQ</th>\n",
       "      <th>bad_aux</th>\n",
       "    </tr>\n",
       "  </thead>\n",
       "  <tbody>\n",
       "    <tr>\n",
       "      <th>0</th>\n",
       "      <td>1021339766868145413AB3B</td>\n",
       "      <td>193129</td>\n",
       "      <td>2007-08-26 19:09:29.263000000</td>\n",
       "      <td>C</td>\n",
       "      <td>36</td>\n",
       "      <td>Completed</td>\n",
       "      <td>2009-08-14 00:00:00</td>\n",
       "      <td>0.16516</td>\n",
       "      <td>0.158</td>\n",
       "      <td>0.138</td>\n",
       "      <td>...</td>\n",
       "      <td>0.0</td>\n",
       "      <td>0.0</td>\n",
       "      <td>1.0</td>\n",
       "      <td>0</td>\n",
       "      <td>0</td>\n",
       "      <td>0.0</td>\n",
       "      <td>258</td>\n",
       "      <td>6.0</td>\n",
       "      <td>NaN</td>\n",
       "      <td>False</td>\n",
       "    </tr>\n",
       "    <tr>\n",
       "      <th>1</th>\n",
       "      <td>10273602499503308B223C1</td>\n",
       "      <td>1209647</td>\n",
       "      <td>2014-02-27 08:28:07.900000000</td>\n",
       "      <td>NaN</td>\n",
       "      <td>36</td>\n",
       "      <td>Current</td>\n",
       "      <td>NaN</td>\n",
       "      <td>0.12016</td>\n",
       "      <td>0.092</td>\n",
       "      <td>0.082</td>\n",
       "      <td>...</td>\n",
       "      <td>0.0</td>\n",
       "      <td>0.0</td>\n",
       "      <td>1.0</td>\n",
       "      <td>0</td>\n",
       "      <td>0</td>\n",
       "      <td>0.0</td>\n",
       "      <td>1</td>\n",
       "      <td>0.0</td>\n",
       "      <td>NaN</td>\n",
       "      <td>False</td>\n",
       "    </tr>\n",
       "  </tbody>\n",
       "</table>\n",
       "<p>2 rows × 84 columns</p>\n",
       "</div>"
      ],
      "text/plain": [
       "                ListingKey  ListingNumber            ListingCreationDate  \\\n",
       "0  1021339766868145413AB3B         193129  2007-08-26 19:09:29.263000000   \n",
       "1  10273602499503308B223C1        1209647  2014-02-27 08:28:07.900000000   \n",
       "\n",
       "  CreditGrade  Term LoanStatus           ClosedDate  BorrowerAPR  \\\n",
       "0           C    36  Completed  2009-08-14 00:00:00      0.16516   \n",
       "1         NaN    36    Current                  NaN      0.12016   \n",
       "\n",
       "   BorrowerRate  LenderYield   ...    LP_NetPrincipalLoss  \\\n",
       "0         0.158        0.138   ...                    0.0   \n",
       "1         0.092        0.082   ...                    0.0   \n",
       "\n",
       "   LP_NonPrincipalRecoverypayments  PercentFunded  Recommendations  \\\n",
       "0                              0.0            1.0                0   \n",
       "1                              0.0            1.0                0   \n",
       "\n",
       "  InvestmentFromFriendsCount  InvestmentFromFriendsAmount  Investors  \\\n",
       "0                          0                          0.0        258   \n",
       "1                          0                          0.0          1   \n",
       "\n",
       "  LoanMonthsSinceOriginationY LoanFirstDefaultedCycleNumberQ bad_aux  \n",
       "0                         6.0                            NaN   False  \n",
       "1                         0.0                            NaN   False  \n",
       "\n",
       "[2 rows x 84 columns]"
      ]
     },
     "execution_count": 23,
     "metadata": {},
     "output_type": "execute_result"
    }
   ],
   "source": [
    "df.head(2)"
   ]
  },
  {
   "cell_type": "code",
   "execution_count": 24,
   "metadata": {},
   "outputs": [],
   "source": [
    "PW_size = 18\n",
    "TH_fraud= 4"
   ]
  },
  {
   "cell_type": "code",
   "execution_count": 25,
   "metadata": {},
   "outputs": [],
   "source": [
    "df['PW']= df.LoanMonthsSinceOrigination >= PW_size\n",
    "df['fraud']= df.LoanFirstDefaultedCycleNumber <= TH_fraud\n",
    "df['bad']= (df.LoanFirstDefaultedCycleNumber> TH_fraud) & (df.LoanFirstDefaultedCycleNumber <= PW_size)\n",
    "df['indeterm']= (df.LoanFirstDefaultedCycleNumber> PW_size)\n",
    "df.loc[(df.bad==0) & (df.LoanCurrentDaysDelinquent> 30), 'indeterm']= True"
   ]
  },
  {
   "cell_type": "code",
   "execution_count": 26,
   "metadata": {},
   "outputs": [
    {
     "data": {
      "text/plain": [
       "PW          62995\n",
       "fraud         562\n",
       "bad         10555\n",
       "indeterm     7496\n",
       "dtype: int64"
      ]
     },
     "execution_count": 26,
     "metadata": {},
     "output_type": "execute_result"
    }
   ],
   "source": [
    "df[['PW', 'fraud', 'bad', 'indeterm']].sum()"
   ]
  },
  {
   "cell_type": "markdown",
   "metadata": {},
   "source": [
    "### (5) TO DO. Explain the following behaviour:"
   ]
  },
  {
   "cell_type": "markdown",
   "metadata": {},
   "source": [
    "\n",
    "- We choose the activated target and extract different values from there\n",
    "\n",
    "- BAD definition is based on what day it became defaulted. The fact of seeing a zero means that to a current date, the loan has been completed. The fact of seeing 26 zeros means that it might have become defaulted but also that the payment has been completed after that.\n"
   ]
  },
  {
   "cell_type": "code",
   "execution_count": 27,
   "metadata": {},
   "outputs": [
    {
     "data": {
      "text/plain": [
       "0     26\n",
       "16     1\n",
       "17     1\n",
       "24     1\n",
       "34     1\n",
       "58     1\n",
       "66     1\n",
       "67     1\n",
       "69     1\n",
       "74     1\n",
       "76     2\n",
       "87     1\n",
       "88     1\n",
       "90     2\n",
       "92     1\n",
       "93     5\n",
       "94     2\n",
       "95     3\n",
       "96     1\n",
       "97     1\n",
       "Name: LoanCurrentDaysDelinquent, dtype: int64"
      ]
     },
     "metadata": {},
     "output_type": "display_data"
    },
    {
     "data": {
      "text/plain": [
       "Chargedoff               7130\n",
       "Completed                  26\n",
       "Defaulted                3397\n",
       "Past Due (16-30 days)       1\n",
       "Past Due (61-90 days)       1\n",
       "Name: LoanStatus, dtype: int64"
      ]
     },
     "execution_count": 27,
     "metadata": {},
     "output_type": "execute_result"
    }
   ],
   "source": [
    "display(df.loc[df.bad==True, 'LoanCurrentDaysDelinquent'].value_counts().sort_index()[:20])\n",
    "df.loc[df.bad==True, 'LoanStatus'].value_counts().sort_index()[:20]"
   ]
  },
  {
   "cell_type": "markdown",
   "metadata": {
    "ExecuteTime": {
     "end_time": "2019-04-12T20:26:21.472883Z",
     "start_time": "2019-04-12T20:26:21.406927Z"
    }
   },
   "source": [
    "**Answer**: The first line of code displays those loans inside our dataset that have been categorized by us in the previous function as \"bad\", and have been delinquent for the days shown on the right-side column. \n",
    "\n",
    "The maximum number of days delinquent is of 1,658 days when we have a PW of 18 months. We also observe how large the amount of Chargedoff loans is, around 7,130. We can see there are some loans inside the completed/final payment in progress categories, but they are very few. Most loans are either Chargedoff or Defaulted. This means **we have categorized some loans as \"bad\" when they have been completed (paid) or are almost paid, so our function miscategorizes some loans as \"bad\" when, in fact, they are not.**"
   ]
  },
  {
   "cell_type": "markdown",
   "metadata": {},
   "source": [
    "## Step 5: First exclusion set"
   ]
  },
  {
   "cell_type": "markdown",
   "metadata": {},
   "source": [
    "### (6) TO DO. Filter the data as expected. Keep only the data with enough maturity in the performance window. Drop Fraud. Indeterminates will be handled after."
   ]
  },
  {
   "cell_type": "markdown",
   "metadata": {},
   "source": [
    "## First exclusion set"
   ]
  },
  {
   "cell_type": "markdown",
   "metadata": {},
   "source": [
    "Once the PW is defindes, we should keep enough maturity in our data. To achieve this we are going to filter all loans which Origination Date are bigger than 18 months. Besides, those who have been determined as **fraud** will be skipped.\n",
    "\n",
    "**Note**: Bigger than 1 year and a half is due to our **PW == 18 Months**"
   ]
  },
  {
   "cell_type": "code",
   "execution_count": 28,
   "metadata": {
    "ExecuteTime": {
     "end_time": "2019-04-12T20:26:21.645224Z",
     "start_time": "2019-04-12T20:26:21.501445Z"
    }
   },
   "outputs": [],
   "source": [
    "def filter_exclusions(df):\n",
    "    \"\"\"Function that handles the population definition\n",
    "    \n",
    "    Args:\n",
    "        df: Pandas DataFrame with the in time input data\n",
    "        \n",
    "    Returns:\n",
    "        Pandas DataFrame with the population definition applied\n",
    "    \"\"\"\n",
    "    filtro1 = df.LoanMonthsSinceOrigination >= PW_size\n",
    "    filtro2 = df.fraud == False\n",
    "\n",
    "    res = df[(filtro1 & filtro2)]\n",
    "    return(res)"
   ]
  },
  {
   "cell_type": "code",
   "execution_count": 29,
   "metadata": {
    "ExecuteTime": {
     "end_time": "2019-04-12T20:26:21.669661Z",
     "start_time": "2019-04-12T20:26:21.654986Z"
    }
   },
   "outputs": [
    {
     "name": "stdout",
     "output_type": "stream",
     "text": [
      "The dataset has 62437 rows and 88 columns\n"
     ]
    }
   ],
   "source": [
    "df = filter_exclusions(df)\n",
    "print('The dataset has {} rows and {} columns'.format(df.shape[0], df.shape[1]))"
   ]
  },
  {
   "cell_type": "markdown",
   "metadata": {},
   "source": [
    "When filtering the data based on the performance window and eliminating fraud cases, we obtained that the number of rows went from 113.937 to 62.437;  which represented a decrease of 43.59% of the total sample."
   ]
  },
  {
   "cell_type": "markdown",
   "metadata": {},
   "source": [
    "## Step 6: Bad rate"
   ]
  },
  {
   "cell_type": "code",
   "execution_count": 30,
   "metadata": {
    "ExecuteTime": {
     "end_time": "2019-04-12T20:26:21.701528Z",
     "start_time": "2019-04-12T20:26:21.677973Z"
    }
   },
   "outputs": [
    {
     "data": {
      "text/plain": [
       "False    52593\n",
       "True      9844\n",
       "Name: bad, dtype: int64"
      ]
     },
     "execution_count": 30,
     "metadata": {},
     "output_type": "execute_result"
    }
   ],
   "source": [
    "df.bad.value_counts()"
   ]
  },
  {
   "cell_type": "code",
   "execution_count": 31,
   "metadata": {
    "ExecuteTime": {
     "end_time": "2019-04-12T20:26:21.733641Z",
     "start_time": "2019-04-12T20:26:21.709742Z"
    }
   },
   "outputs": [
    {
     "data": {
      "text/plain": [
       "False    84.233708\n",
       "True     15.766292\n",
       "Name: bad, dtype: float64"
      ]
     },
     "execution_count": 31,
     "metadata": {},
     "output_type": "execute_result"
    }
   ],
   "source": [
    "100. * df.bad.value_counts() / df.shape[0]"
   ]
  },
  {
   "cell_type": "code",
   "execution_count": 32,
   "metadata": {
    "ExecuteTime": {
     "end_time": "2019-04-12T20:26:21.802128Z",
     "start_time": "2019-04-12T20:26:21.742727Z"
    }
   },
   "outputs": [
    {
     "data": {
      "text/html": [
       "<div>\n",
       "<style scoped>\n",
       "    .dataframe tbody tr th:only-of-type {\n",
       "        vertical-align: middle;\n",
       "    }\n",
       "\n",
       "    .dataframe tbody tr th {\n",
       "        vertical-align: top;\n",
       "    }\n",
       "\n",
       "    .dataframe thead th {\n",
       "        text-align: right;\n",
       "    }\n",
       "</style>\n",
       "<table border=\"1\" class=\"dataframe\">\n",
       "  <thead>\n",
       "    <tr style=\"text-align: right;\">\n",
       "      <th></th>\n",
       "      <th>ListingCreationDate</th>\n",
       "      <th>LoanOriginationDate</th>\n",
       "    </tr>\n",
       "  </thead>\n",
       "  <tbody>\n",
       "    <tr>\n",
       "      <th>0</th>\n",
       "      <td>2007-08-26 19:09:29.263000000</td>\n",
       "      <td>2007-09-12 00:00:00</td>\n",
       "    </tr>\n",
       "    <tr>\n",
       "      <th>2</th>\n",
       "      <td>2007-01-05 15:00:47.090000000</td>\n",
       "      <td>2007-01-17 00:00:00</td>\n",
       "    </tr>\n",
       "    <tr>\n",
       "      <th>10</th>\n",
       "      <td>2012-05-10 07:04:01.577000000</td>\n",
       "      <td>2012-05-17 00:00:00</td>\n",
       "    </tr>\n",
       "    <tr>\n",
       "      <th>11</th>\n",
       "      <td>2007-10-09 20:28:33.640000000</td>\n",
       "      <td>2007-10-18 00:00:00</td>\n",
       "    </tr>\n",
       "    <tr>\n",
       "      <th>15</th>\n",
       "      <td>2012-04-10 09:14:46.297000000</td>\n",
       "      <td>2012-04-19 00:00:00</td>\n",
       "    </tr>\n",
       "  </tbody>\n",
       "</table>\n",
       "</div>"
      ],
      "text/plain": [
       "              ListingCreationDate  LoanOriginationDate\n",
       "0   2007-08-26 19:09:29.263000000  2007-09-12 00:00:00\n",
       "2   2007-01-05 15:00:47.090000000  2007-01-17 00:00:00\n",
       "10  2012-05-10 07:04:01.577000000  2012-05-17 00:00:00\n",
       "11  2007-10-09 20:28:33.640000000  2007-10-18 00:00:00\n",
       "15  2012-04-10 09:14:46.297000000  2012-04-19 00:00:00"
      ]
     },
     "execution_count": 32,
     "metadata": {},
     "output_type": "execute_result"
    }
   ],
   "source": [
    "df[['ListingCreationDate', 'LoanOriginationDate']].head()"
   ]
  },
  {
   "cell_type": "code",
   "execution_count": 33,
   "metadata": {
    "ExecuteTime": {
     "end_time": "2019-04-12T20:26:22.116898Z",
     "start_time": "2019-04-12T20:26:21.812209Z"
    }
   },
   "outputs": [
    {
     "name": "stderr",
     "output_type": "stream",
     "text": [
      "C:\\Users\\Knowhow\\Anaconda3\\lib\\site-packages\\ipykernel_launcher.py:1: SettingWithCopyWarning: \n",
      "A value is trying to be set on a copy of a slice from a DataFrame.\n",
      "Try using .loc[row_indexer,col_indexer] = value instead\n",
      "\n",
      "See the caveats in the documentation: http://pandas.pydata.org/pandas-docs/stable/indexing.html#indexing-view-versus-copy\n",
      "  \"\"\"Entry point for launching an IPython kernel.\n",
      "C:\\Users\\Knowhow\\Anaconda3\\lib\\site-packages\\ipykernel_launcher.py:2: SettingWithCopyWarning: \n",
      "A value is trying to be set on a copy of a slice from a DataFrame.\n",
      "Try using .loc[row_indexer,col_indexer] = value instead\n",
      "\n",
      "See the caveats in the documentation: http://pandas.pydata.org/pandas-docs/stable/indexing.html#indexing-view-versus-copy\n",
      "  \n"
     ]
    }
   ],
   "source": [
    "df['LoanOriginationDate'] = pd.to_datetime(df.LoanOriginationDate.str[:10])\n",
    "df['LoanOriginationYear'] = pd.to_datetime(df.LoanOriginationDate.values).year"
   ]
  },
  {
   "cell_type": "code",
   "execution_count": 34,
   "metadata": {},
   "outputs": [
    {
     "data": {
      "text/html": [
       "<div>\n",
       "<style scoped>\n",
       "    .dataframe tbody tr th:only-of-type {\n",
       "        vertical-align: middle;\n",
       "    }\n",
       "\n",
       "    .dataframe tbody tr th {\n",
       "        vertical-align: top;\n",
       "    }\n",
       "\n",
       "    .dataframe thead th {\n",
       "        text-align: right;\n",
       "    }\n",
       "</style>\n",
       "<table border=\"1\" class=\"dataframe\">\n",
       "  <thead>\n",
       "    <tr style=\"text-align: right;\">\n",
       "      <th></th>\n",
       "      <th>LoanOriginationDate</th>\n",
       "      <th>LoanOriginationYear</th>\n",
       "    </tr>\n",
       "  </thead>\n",
       "  <tbody>\n",
       "    <tr>\n",
       "      <th>0</th>\n",
       "      <td>2007-09-12</td>\n",
       "      <td>2007</td>\n",
       "    </tr>\n",
       "    <tr>\n",
       "      <th>2</th>\n",
       "      <td>2007-01-17</td>\n",
       "      <td>2007</td>\n",
       "    </tr>\n",
       "  </tbody>\n",
       "</table>\n",
       "</div>"
      ],
      "text/plain": [
       "  LoanOriginationDate  LoanOriginationYear\n",
       "0          2007-09-12                 2007\n",
       "2          2007-01-17                 2007"
      ]
     },
     "execution_count": 34,
     "metadata": {},
     "output_type": "execute_result"
    }
   ],
   "source": [
    "df[['LoanOriginationDate','LoanOriginationYear' ]].head(2)"
   ]
  },
  {
   "cell_type": "markdown",
   "metadata": {},
   "source": [
    "## Step 7: Additional exclusions"
   ]
  },
  {
   "cell_type": "markdown",
   "metadata": {},
   "source": [
    "### (7) TO DO. Review Temporal BR. Propose and Implement Adapted Sampling Window."
   ]
  },
  {
   "cell_type": "code",
   "execution_count": 35,
   "metadata": {
    "ExecuteTime": {
     "end_time": "2019-04-12T20:26:22.318720Z",
     "start_time": "2019-04-12T20:26:22.125984Z"
    }
   },
   "outputs": [],
   "source": [
    "def describe_yearly_BR(df, col_year = 'LoanOriginationYear', col_target = 'bad'):\n",
    "    \"\"\"Describes the yearly number of loans, bad loans and bad rate of the portfolio\n",
    "    \n",
    "    Args:\n",
    "        df: Pandas DataFrame with the input data\n",
    "        col_year: Name of the column that captures the loan origination date\n",
    "        col_target: Name of the target column\n",
    "        \n",
    "    Returns:\n",
    "        Pandas DataFrame with the yearly number of loans, bad \n",
    "        loans and bad rate of the portfolio \n",
    "    \"\"\"\n",
    "    # Selecting dataframe by columns names\n",
    "    df_BR = df[[col_year, col_target]]\n",
    "    # Create new column\n",
    "    df_BR.insert(1, 'N_loans', 1)\n",
    "    # Aggregate by loan year\n",
    "    df_BR_year = df_BR.groupby('LoanOriginationYear').sum()\n",
    "    # Generate the bad rate (BR) expressed in percent\n",
    "    df_BR_year['BR%'] = 100 * (df_BR_year.bad / df_BR_year.N_loans).round(4)\n",
    "    \n",
    "    return df_BR_year"
   ]
  },
  {
   "cell_type": "code",
   "execution_count": 36,
   "metadata": {},
   "outputs": [
    {
     "data": {
      "text/html": [
       "<div>\n",
       "<style scoped>\n",
       "    .dataframe tbody tr th:only-of-type {\n",
       "        vertical-align: middle;\n",
       "    }\n",
       "\n",
       "    .dataframe tbody tr th {\n",
       "        vertical-align: top;\n",
       "    }\n",
       "\n",
       "    .dataframe thead th {\n",
       "        text-align: right;\n",
       "    }\n",
       "</style>\n",
       "<table border=\"1\" class=\"dataframe\">\n",
       "  <thead>\n",
       "    <tr style=\"text-align: right;\">\n",
       "      <th></th>\n",
       "      <th>N_loans</th>\n",
       "      <th>bad</th>\n",
       "      <th>BR%</th>\n",
       "    </tr>\n",
       "    <tr>\n",
       "      <th>LoanOriginationYear</th>\n",
       "      <th></th>\n",
       "      <th></th>\n",
       "      <th></th>\n",
       "    </tr>\n",
       "  </thead>\n",
       "  <tbody>\n",
       "    <tr>\n",
       "      <th>2005</th>\n",
       "      <td>22</td>\n",
       "      <td>0.0</td>\n",
       "      <td>0.00</td>\n",
       "    </tr>\n",
       "    <tr>\n",
       "      <th>2006</th>\n",
       "      <td>5822</td>\n",
       "      <td>1415.0</td>\n",
       "      <td>24.30</td>\n",
       "    </tr>\n",
       "    <tr>\n",
       "      <th>2007</th>\n",
       "      <td>11240</td>\n",
       "      <td>2429.0</td>\n",
       "      <td>21.61</td>\n",
       "    </tr>\n",
       "    <tr>\n",
       "      <th>2008</th>\n",
       "      <td>11411</td>\n",
       "      <td>2183.0</td>\n",
       "      <td>19.13</td>\n",
       "    </tr>\n",
       "    <tr>\n",
       "      <th>2009</th>\n",
       "      <td>2032</td>\n",
       "      <td>156.0</td>\n",
       "      <td>7.68</td>\n",
       "    </tr>\n",
       "    <tr>\n",
       "      <th>2010</th>\n",
       "      <td>5579</td>\n",
       "      <td>447.0</td>\n",
       "      <td>8.01</td>\n",
       "    </tr>\n",
       "    <tr>\n",
       "      <th>2011</th>\n",
       "      <td>11208</td>\n",
       "      <td>1354.0</td>\n",
       "      <td>12.08</td>\n",
       "    </tr>\n",
       "    <tr>\n",
       "      <th>2012</th>\n",
       "      <td>15123</td>\n",
       "      <td>1860.0</td>\n",
       "      <td>12.30</td>\n",
       "    </tr>\n",
       "  </tbody>\n",
       "</table>\n",
       "</div>"
      ],
      "text/plain": [
       "                     N_loans     bad    BR%\n",
       "LoanOriginationYear                        \n",
       "2005                      22     0.0   0.00\n",
       "2006                    5822  1415.0  24.30\n",
       "2007                   11240  2429.0  21.61\n",
       "2008                   11411  2183.0  19.13\n",
       "2009                    2032   156.0   7.68\n",
       "2010                    5579   447.0   8.01\n",
       "2011                   11208  1354.0  12.08\n",
       "2012                   15123  1860.0  12.30"
      ]
     },
     "execution_count": 36,
     "metadata": {},
     "output_type": "execute_result"
    }
   ],
   "source": [
    "describe_yearly_BR(df)"
   ]
  },
  {
   "cell_type": "markdown",
   "metadata": {},
   "source": [
    "The largest number of loans was concentrated between 2007 and 2008. However, given the closure of activities between November 2008 and July 2009, few loans were presented for this year. In addition, for the year 2011 the number of loans increases at the level of past years."
   ]
  },
  {
   "cell_type": "markdown",
   "metadata": {},
   "source": [
    "Based on the results of the previous table, the **sample window** can be considered from the year 2010, in which the company resumes its operations after the closing. To ensure that the sample does not include any data from abnormal periods, so that the sample used is in line with normal business periods."
   ]
  },
  {
   "cell_type": "markdown",
   "metadata": {},
   "source": [
    "The theory indicates that with a sample of 2.000 bad loans it's possible to create a scorecard. For data **in time**, with the observations between 2010 and 2011 we obtained at least 2.000 bad loans and we could left 2012 information to use for as data **out of time**."
   ]
  },
  {
   "cell_type": "code",
   "execution_count": 37,
   "metadata": {},
   "outputs": [
    {
     "data": {
      "text/html": [
       "<div>\n",
       "<style scoped>\n",
       "    .dataframe tbody tr th:only-of-type {\n",
       "        vertical-align: middle;\n",
       "    }\n",
       "\n",
       "    .dataframe tbody tr th {\n",
       "        vertical-align: top;\n",
       "    }\n",
       "\n",
       "    .dataframe thead th {\n",
       "        text-align: right;\n",
       "    }\n",
       "</style>\n",
       "<table border=\"1\" class=\"dataframe\">\n",
       "  <thead>\n",
       "    <tr style=\"text-align: right;\">\n",
       "      <th></th>\n",
       "      <th>ListingNumber</th>\n",
       "      <th>Term</th>\n",
       "      <th>BorrowerAPR</th>\n",
       "      <th>BorrowerRate</th>\n",
       "      <th>LenderYield</th>\n",
       "      <th>EstimatedEffectiveYield</th>\n",
       "      <th>EstimatedLoss</th>\n",
       "      <th>EstimatedReturn</th>\n",
       "      <th>ProsperRating (numeric)</th>\n",
       "      <th>ProsperScore</th>\n",
       "      <th>...</th>\n",
       "      <th>LP_NetPrincipalLoss</th>\n",
       "      <th>LP_NonPrincipalRecoverypayments</th>\n",
       "      <th>PercentFunded</th>\n",
       "      <th>Recommendations</th>\n",
       "      <th>InvestmentFromFriendsCount</th>\n",
       "      <th>InvestmentFromFriendsAmount</th>\n",
       "      <th>Investors</th>\n",
       "      <th>LoanMonthsSinceOriginationY</th>\n",
       "      <th>LoanFirstDefaultedCycleNumberQ</th>\n",
       "      <th>LoanOriginationYear</th>\n",
       "    </tr>\n",
       "  </thead>\n",
       "  <tbody>\n",
       "    <tr>\n",
       "      <th>count</th>\n",
       "      <td>33942.000000</td>\n",
       "      <td>33942.000000</td>\n",
       "      <td>33942.000000</td>\n",
       "      <td>33942.000000</td>\n",
       "      <td>33942.000000</td>\n",
       "      <td>33798.000000</td>\n",
       "      <td>33798.000000</td>\n",
       "      <td>33798.000000</td>\n",
       "      <td>33798.000000</td>\n",
       "      <td>33798.000000</td>\n",
       "      <td>...</td>\n",
       "      <td>33942.000000</td>\n",
       "      <td>33942.000000</td>\n",
       "      <td>33942.000000</td>\n",
       "      <td>33942.000000</td>\n",
       "      <td>33942.000000</td>\n",
       "      <td>33942.000000</td>\n",
       "      <td>33942.000000</td>\n",
       "      <td>33942.000000</td>\n",
       "      <td>5428.000000</td>\n",
       "      <td>33942.000000</td>\n",
       "    </tr>\n",
       "    <tr>\n",
       "      <th>mean</th>\n",
       "      <td>536418.776177</td>\n",
       "      <td>39.228566</td>\n",
       "      <td>0.252656</td>\n",
       "      <td>0.221474</td>\n",
       "      <td>0.211462</td>\n",
       "      <td>0.185579</td>\n",
       "      <td>0.093414</td>\n",
       "      <td>0.111245</td>\n",
       "      <td>3.684390</td>\n",
       "      <td>6.361264</td>\n",
       "      <td>...</td>\n",
       "      <td>773.052476</td>\n",
       "      <td>16.326609</td>\n",
       "      <td>0.996610</td>\n",
       "      <td>0.033557</td>\n",
       "      <td>0.018296</td>\n",
       "      <td>10.550686</td>\n",
       "      <td>90.710300</td>\n",
       "      <td>2.593424</td>\n",
       "      <td>15.384672</td>\n",
       "      <td>2011.161452</td>\n",
       "    </tr>\n",
       "    <tr>\n",
       "      <th>std</th>\n",
       "      <td>60327.161680</td>\n",
       "      <td>10.297013</td>\n",
       "      <td>0.089327</td>\n",
       "      <td>0.082858</td>\n",
       "      <td>0.082861</td>\n",
       "      <td>0.081103</td>\n",
       "      <td>0.054445</td>\n",
       "      <td>0.036237</td>\n",
       "      <td>1.825156</td>\n",
       "      <td>2.244230</td>\n",
       "      <td>...</td>\n",
       "      <td>2339.259314</td>\n",
       "      <td>167.047001</td>\n",
       "      <td>0.027658</td>\n",
       "      <td>0.254060</td>\n",
       "      <td>0.163709</td>\n",
       "      <td>185.878424</td>\n",
       "      <td>96.228408</td>\n",
       "      <td>0.793659</td>\n",
       "      <td>7.372587</td>\n",
       "      <td>0.907385</td>\n",
       "    </tr>\n",
       "    <tr>\n",
       "      <th>min</th>\n",
       "      <td>149172.000000</td>\n",
       "      <td>12.000000</td>\n",
       "      <td>0.045830</td>\n",
       "      <td>0.040000</td>\n",
       "      <td>0.030000</td>\n",
       "      <td>-0.182700</td>\n",
       "      <td>0.004900</td>\n",
       "      <td>-0.182700</td>\n",
       "      <td>1.000000</td>\n",
       "      <td>1.000000</td>\n",
       "      <td>...</td>\n",
       "      <td>-504.410000</td>\n",
       "      <td>0.000000</td>\n",
       "      <td>0.700000</td>\n",
       "      <td>0.000000</td>\n",
       "      <td>0.000000</td>\n",
       "      <td>0.000000</td>\n",
       "      <td>1.000000</td>\n",
       "      <td>2.000000</td>\n",
       "      <td>4.000000</td>\n",
       "      <td>2009.000000</td>\n",
       "    </tr>\n",
       "    <tr>\n",
       "      <th>25%</th>\n",
       "      <td>493374.750000</td>\n",
       "      <td>36.000000</td>\n",
       "      <td>0.177540</td>\n",
       "      <td>0.148600</td>\n",
       "      <td>0.138600</td>\n",
       "      <td>0.123700</td>\n",
       "      <td>0.052000</td>\n",
       "      <td>0.087800</td>\n",
       "      <td>2.000000</td>\n",
       "      <td>5.000000</td>\n",
       "      <td>...</td>\n",
       "      <td>0.000000</td>\n",
       "      <td>0.000000</td>\n",
       "      <td>1.000000</td>\n",
       "      <td>0.000000</td>\n",
       "      <td>0.000000</td>\n",
       "      <td>0.000000</td>\n",
       "      <td>26.000000</td>\n",
       "      <td>2.000000</td>\n",
       "      <td>8.000000</td>\n",
       "      <td>2011.000000</td>\n",
       "    </tr>\n",
       "    <tr>\n",
       "      <th>50%</th>\n",
       "      <td>538486.000000</td>\n",
       "      <td>36.000000</td>\n",
       "      <td>0.270600</td>\n",
       "      <td>0.234300</td>\n",
       "      <td>0.224300</td>\n",
       "      <td>0.185500</td>\n",
       "      <td>0.095000</td>\n",
       "      <td>0.118900</td>\n",
       "      <td>3.000000</td>\n",
       "      <td>7.000000</td>\n",
       "      <td>...</td>\n",
       "      <td>0.000000</td>\n",
       "      <td>0.000000</td>\n",
       "      <td>1.000000</td>\n",
       "      <td>0.000000</td>\n",
       "      <td>0.000000</td>\n",
       "      <td>0.000000</td>\n",
       "      <td>59.000000</td>\n",
       "      <td>2.000000</td>\n",
       "      <td>16.000000</td>\n",
       "      <td>2011.000000</td>\n",
       "    </tr>\n",
       "    <tr>\n",
       "      <th>75%</th>\n",
       "      <td>585057.250000</td>\n",
       "      <td>36.000000</td>\n",
       "      <td>0.339730</td>\n",
       "      <td>0.299900</td>\n",
       "      <td>0.289900</td>\n",
       "      <td>0.254800</td>\n",
       "      <td>0.142000</td>\n",
       "      <td>0.139200</td>\n",
       "      <td>5.000000</td>\n",
       "      <td>8.000000</td>\n",
       "      <td>...</td>\n",
       "      <td>0.000000</td>\n",
       "      <td>0.000000</td>\n",
       "      <td>1.000000</td>\n",
       "      <td>0.000000</td>\n",
       "      <td>0.000000</td>\n",
       "      <td>0.000000</td>\n",
       "      <td>122.000000</td>\n",
       "      <td>3.000000</td>\n",
       "      <td>20.000000</td>\n",
       "      <td>2012.000000</td>\n",
       "    </tr>\n",
       "    <tr>\n",
       "      <th>max</th>\n",
       "      <td>646642.000000</td>\n",
       "      <td>60.000000</td>\n",
       "      <td>0.423950</td>\n",
       "      <td>0.360000</td>\n",
       "      <td>0.340000</td>\n",
       "      <td>0.319900</td>\n",
       "      <td>0.366000</td>\n",
       "      <td>0.283700</td>\n",
       "      <td>7.000000</td>\n",
       "      <td>10.000000</td>\n",
       "      <td>...</td>\n",
       "      <td>25000.000000</td>\n",
       "      <td>6296.960000</td>\n",
       "      <td>1.012500</td>\n",
       "      <td>18.000000</td>\n",
       "      <td>9.000000</td>\n",
       "      <td>11000.000000</td>\n",
       "      <td>1189.000000</td>\n",
       "      <td>5.000000</td>\n",
       "      <td>40.000000</td>\n",
       "      <td>2012.000000</td>\n",
       "    </tr>\n",
       "  </tbody>\n",
       "</table>\n",
       "<p>8 rows × 64 columns</p>\n",
       "</div>"
      ],
      "text/plain": [
       "       ListingNumber          Term   BorrowerAPR  BorrowerRate   LenderYield  \\\n",
       "count   33942.000000  33942.000000  33942.000000  33942.000000  33942.000000   \n",
       "mean   536418.776177     39.228566      0.252656      0.221474      0.211462   \n",
       "std     60327.161680     10.297013      0.089327      0.082858      0.082861   \n",
       "min    149172.000000     12.000000      0.045830      0.040000      0.030000   \n",
       "25%    493374.750000     36.000000      0.177540      0.148600      0.138600   \n",
       "50%    538486.000000     36.000000      0.270600      0.234300      0.224300   \n",
       "75%    585057.250000     36.000000      0.339730      0.299900      0.289900   \n",
       "max    646642.000000     60.000000      0.423950      0.360000      0.340000   \n",
       "\n",
       "       EstimatedEffectiveYield  EstimatedLoss  EstimatedReturn  \\\n",
       "count             33798.000000   33798.000000     33798.000000   \n",
       "mean                  0.185579       0.093414         0.111245   \n",
       "std                   0.081103       0.054445         0.036237   \n",
       "min                  -0.182700       0.004900        -0.182700   \n",
       "25%                   0.123700       0.052000         0.087800   \n",
       "50%                   0.185500       0.095000         0.118900   \n",
       "75%                   0.254800       0.142000         0.139200   \n",
       "max                   0.319900       0.366000         0.283700   \n",
       "\n",
       "       ProsperRating (numeric)  ProsperScore         ...           \\\n",
       "count             33798.000000  33798.000000         ...            \n",
       "mean                  3.684390      6.361264         ...            \n",
       "std                   1.825156      2.244230         ...            \n",
       "min                   1.000000      1.000000         ...            \n",
       "25%                   2.000000      5.000000         ...            \n",
       "50%                   3.000000      7.000000         ...            \n",
       "75%                   5.000000      8.000000         ...            \n",
       "max                   7.000000     10.000000         ...            \n",
       "\n",
       "       LP_NetPrincipalLoss  LP_NonPrincipalRecoverypayments  PercentFunded  \\\n",
       "count         33942.000000                     33942.000000   33942.000000   \n",
       "mean            773.052476                        16.326609       0.996610   \n",
       "std            2339.259314                       167.047001       0.027658   \n",
       "min            -504.410000                         0.000000       0.700000   \n",
       "25%               0.000000                         0.000000       1.000000   \n",
       "50%               0.000000                         0.000000       1.000000   \n",
       "75%               0.000000                         0.000000       1.000000   \n",
       "max           25000.000000                      6296.960000       1.012500   \n",
       "\n",
       "       Recommendations  InvestmentFromFriendsCount  \\\n",
       "count     33942.000000                33942.000000   \n",
       "mean          0.033557                    0.018296   \n",
       "std           0.254060                    0.163709   \n",
       "min           0.000000                    0.000000   \n",
       "25%           0.000000                    0.000000   \n",
       "50%           0.000000                    0.000000   \n",
       "75%           0.000000                    0.000000   \n",
       "max          18.000000                    9.000000   \n",
       "\n",
       "       InvestmentFromFriendsAmount     Investors  LoanMonthsSinceOriginationY  \\\n",
       "count                 33942.000000  33942.000000                 33942.000000   \n",
       "mean                     10.550686     90.710300                     2.593424   \n",
       "std                     185.878424     96.228408                     0.793659   \n",
       "min                       0.000000      1.000000                     2.000000   \n",
       "25%                       0.000000     26.000000                     2.000000   \n",
       "50%                       0.000000     59.000000                     2.000000   \n",
       "75%                       0.000000    122.000000                     3.000000   \n",
       "max                   11000.000000   1189.000000                     5.000000   \n",
       "\n",
       "       LoanFirstDefaultedCycleNumberQ  LoanOriginationYear  \n",
       "count                     5428.000000         33942.000000  \n",
       "mean                        15.384672          2011.161452  \n",
       "std                          7.372587             0.907385  \n",
       "min                          4.000000          2009.000000  \n",
       "25%                          8.000000          2011.000000  \n",
       "50%                         16.000000          2011.000000  \n",
       "75%                         20.000000          2012.000000  \n",
       "max                         40.000000          2012.000000  \n",
       "\n",
       "[8 rows x 64 columns]"
      ]
     },
     "execution_count": 37,
     "metadata": {},
     "output_type": "execute_result"
    }
   ],
   "source": [
    "col_year= df[df['LoanOriginationYear'] >2008]\n",
    "col_year.describe()"
   ]
  },
  {
   "cell_type": "markdown",
   "metadata": {},
   "source": [
    "## Step 8: Final output sampling:\n",
    "\n",
    "   \n",
    "\n",
    " - **IT (In Time)**:\n",
    "     - Train\n",
    "     - Validation \n",
    "     - Reject Inference sample\n",
    " - **OOT (Out of time)**\n"
   ]
  },
  {
   "cell_type": "code",
   "execution_count": 38,
   "metadata": {},
   "outputs": [
    {
     "data": {
      "text/html": [
       "<div>\n",
       "<style scoped>\n",
       "    .dataframe tbody tr th:only-of-type {\n",
       "        vertical-align: middle;\n",
       "    }\n",
       "\n",
       "    .dataframe tbody tr th {\n",
       "        vertical-align: top;\n",
       "    }\n",
       "\n",
       "    .dataframe thead th {\n",
       "        text-align: right;\n",
       "    }\n",
       "</style>\n",
       "<table border=\"1\" class=\"dataframe\">\n",
       "  <thead>\n",
       "    <tr style=\"text-align: right;\">\n",
       "      <th></th>\n",
       "      <th>N_loans</th>\n",
       "      <th>bad</th>\n",
       "      <th>BR%</th>\n",
       "    </tr>\n",
       "    <tr>\n",
       "      <th>LoanOriginationYear</th>\n",
       "      <th></th>\n",
       "      <th></th>\n",
       "      <th></th>\n",
       "    </tr>\n",
       "  </thead>\n",
       "  <tbody>\n",
       "    <tr>\n",
       "      <th>2009</th>\n",
       "      <td>2032</td>\n",
       "      <td>156.0</td>\n",
       "      <td>7.68</td>\n",
       "    </tr>\n",
       "    <tr>\n",
       "      <th>2010</th>\n",
       "      <td>5579</td>\n",
       "      <td>447.0</td>\n",
       "      <td>8.01</td>\n",
       "    </tr>\n",
       "    <tr>\n",
       "      <th>2011</th>\n",
       "      <td>11208</td>\n",
       "      <td>1354.0</td>\n",
       "      <td>12.08</td>\n",
       "    </tr>\n",
       "    <tr>\n",
       "      <th>2012</th>\n",
       "      <td>15123</td>\n",
       "      <td>1860.0</td>\n",
       "      <td>12.30</td>\n",
       "    </tr>\n",
       "  </tbody>\n",
       "</table>\n",
       "</div>"
      ],
      "text/plain": [
       "                     N_loans     bad    BR%\n",
       "LoanOriginationYear                        \n",
       "2009                    2032   156.0   7.68\n",
       "2010                    5579   447.0   8.01\n",
       "2011                   11208  1354.0  12.08\n",
       "2012                   15123  1860.0  12.30"
      ]
     },
     "execution_count": 38,
     "metadata": {},
     "output_type": "execute_result"
    }
   ],
   "source": [
    "describe_yearly_BR(col_year, 'LoanOriginationYear', 'bad')"
   ]
  },
  {
   "cell_type": "markdown",
   "metadata": {},
   "source": [
    "We obtain the next results:\n",
    "- Performance Window: equal or higher to 1 year and a half (18 months)\n",
    "\n",
    "\n",
    " **Sample Window** for years 2009, 2010, 2011 y 2012.\n",
    "\n",
    "\n",
    "- In Time will be included in our training dataset, validation and test as well. \n",
    "\n",
    "\n",
    "- OOT wil, be for second half of 2012 y 2013"
   ]
  },
  {
   "cell_type": "markdown",
   "metadata": {},
   "source": [
    "### Final output sampling:\n",
    "\n",
    "   \n",
    "\n",
    " - IT (In Time):\n",
    "     - Train\n",
    "     - Validation \n",
    "     - Reject Inference sample\n",
    " - OOT (Out of time)"
   ]
  },
  {
   "cell_type": "markdown",
   "metadata": {},
   "source": [
    "### (8) TO DO. Filter data as needed. Split randomly in Train (60%), Validation (20%) and RI (Rejected Inference (20%)."
   ]
  },
  {
   "cell_type": "code",
   "execution_count": 39,
   "metadata": {},
   "outputs": [],
   "source": [
    "import datetime as dt\n",
    "\n",
    "filtro1 = df.LoanOriginationYear >= 2009\n",
    "filtro2 = df.LoanOriginationDate < dt.datetime(2012, 6, 30)\n",
    "df_it = df[(filtro1 & filtro2)]\n",
    "# TODO: filter data as needed\n",
    "# Split randomly in train, validation and RI\n",
    "# - 60% Train, 20% val, 20% RI\n",
    "df_train = df_it.sample(frac=0.6, random_state=42)\n",
    "df_val_ri = df_it.loc[~df_it.index.isin(df_train.index)]\n",
    "df_val = df_val_ri.sample(frac=0.5, random_state=42)\n",
    "df_ri = df_val_ri.loc[~df_val_ri.index.isin(df_val.index)]"
   ]
  },
  {
   "cell_type": "code",
   "execution_count": 40,
   "metadata": {},
   "outputs": [
    {
     "data": {
      "text/plain": [
       "(28311, 16987, 5662, 5662)"
      ]
     },
     "execution_count": 40,
     "metadata": {},
     "output_type": "execute_result"
    }
   ],
   "source": [
    "len(df_it), len(df_train), len(df_val), len(df_ri)"
   ]
  },
  {
   "cell_type": "code",
   "execution_count": 41,
   "metadata": {},
   "outputs": [
    {
     "name": "stdout",
     "output_type": "stream",
     "text": [
      "The number of observations in time are 28311\n",
      "The number of observations of training sample are 16987\n",
      "The number of observations of validation sample are 5662\n",
      "The number of observations of reject inference sample are 5662\n"
     ]
    }
   ],
   "source": [
    "print('The number of observations in time are', len(df_it))\n",
    "print('The number of observations of training sample are', len(df_train))\n",
    "print('The number of observations of validation sample are', len(df_val))\n",
    "print('The number of observations of reject inference sample are', len(df_ri))"
   ]
  },
  {
   "cell_type": "markdown",
   "metadata": {},
   "source": [
    "### (9) TO DO. Filter data as needed. Write everything into its corresponding csv file."
   ]
  },
  {
   "cell_type": "code",
   "execution_count": 42,
   "metadata": {},
   "outputs": [],
   "source": [
    "filt = df.LoanOriginationDate >= dt.datetime(2012, 6, 30)\n",
    "df_oot = df[filt]\n",
    "\n",
    "# Write everything\n",
    "df_train.to_csv('./data/prosperLoanData_train.csv', index=False)\n",
    "df_val.to_csv('./data/prosperLoanData_val.csv', index=False)\n",
    "df_ri.to_csv('./data/prosperLoanData_ri.csv', index=False)\n",
    "df_oot.to_csv('./data/prosperLoanData_oot.csv', index=False)\n",
    "#ri es reject inference= inferencia de denegados"
   ]
  },
  {
   "cell_type": "code",
   "execution_count": 43,
   "metadata": {},
   "outputs": [
    {
     "data": {
      "text/plain": [
       "(5631, 89)"
      ]
     },
     "execution_count": 43,
     "metadata": {},
     "output_type": "execute_result"
    }
   ],
   "source": [
    "df_oot.shape"
   ]
  },
  {
   "cell_type": "markdown",
   "metadata": {},
   "source": [
    "### (10) TO DO. What input columns can be used as features? If not used as feature, give a short explanation."
   ]
  },
  {
   "cell_type": "markdown",
   "metadata": {},
   "source": [
    "**Answer**: Due to the great amount of features it's very difficult to observe the correlations between the features. Even so, the relations between the rate's variable or amortizations and principal of the loans are noticeable. The excluded features are:\n",
    "\n",
    "- **ListingKey**: is an ID. Other features as ListingNumber, LoanKey, LoanNumber or Member are excluded for the same reason\n",
    "- **CreditGrade**: is only applicable to loan pre2009\n",
    "- **ClosedDate**: is only applicable for some statuses\n",
    "- **ProsperRating (alpha and numeric)**: it is thought ProsperScore will be a better indicator \n",
    "- **LenderYield**: is very similar to others features of rates\n",
    "- **CreditScoreRange**: is not useful because we use ProsperScore\n",
    "- **IncomeVerifiable, LoanOriginationQuarter, Recommendations and InvestmentFromFriends**: are not useful\n",
    "- **ListingCreationDate**: could be reiterative with the performance window\n",
    "- **LoanStatus and ListingCategory**: too many categories\n",
    "- There are a lot of variables related to the beginning of the loan. For this reason, the features named in the instructions in the numbers 28-48, 50, 52-59 are excluded.\n",
    "- There are doubts about the explanation and the convinience of these variables: Occupation, CurrentlyInGroup, GroupKey, DateCreditPulled and PercentFunded\n"
   ]
  },
  {
   "cell_type": "code",
   "execution_count": 44,
   "metadata": {},
   "outputs": [
    {
     "data": {
      "text/plain": [
       "<matplotlib.axes._subplots.AxesSubplot at 0x2404aef3b00>"
      ]
     },
     "execution_count": 44,
     "metadata": {},
     "output_type": "execute_result"
    },
    {
     "data": {
      "image/png": "[encoded data removed]",
      "text/plain": [
       "<Figure size 1440x1440 with 2 Axes>"
      ]
     },
     "metadata": {},
     "output_type": "display_data"
    }
   ],
   "source": [
    "matriz_corr = df_it.corr()\n",
    "plt.figure(figsize=(20, 20))\n",
    "sns.heatmap(round(matriz_corr, 2), cmap = sns.light_palette(\"darkblue\", as_cmap=True))"
   ]
  },
  {
   "cell_type": "code",
   "execution_count": null,
   "metadata": {},
   "outputs": [],
   "source": []
  }
 ],
 "metadata": {
  "kernelspec": {
   "display_name": "Python 3",
   "language": "python",
   "name": "python3"
  },
  "language_info": {
   "codemirror_mode": {
    "name": "ipython",
    "version": 3
   },
   "file_extension": ".py",
   "mimetype": "text/x-python",
   "name": "python",
   "nbconvert_exporter": "python",
   "pygments_lexer": "ipython3",
   "version": "3.6.5"
  },
  "toc": {
   "base_numbering": 1,
   "nav_menu": {},
   "number_sections": true,
   "sideBar": true,
   "skip_h1_title": false,
   "title_cell": "Table of Contents",
   "title_sidebar": "Contents",
   "toc_cell": false,
   "toc_position": {},
   "toc_section_display": true,
   "toc_window_display": false
  }
 },
 "nbformat": 4,
 "nbformat_minor": 2
}
